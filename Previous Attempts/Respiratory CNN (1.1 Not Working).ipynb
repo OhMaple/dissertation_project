{
 "cells": [
  {
   "cell_type": "code",
   "execution_count": 1,
   "id": "e982db62",
   "metadata": {},
   "outputs": [],
   "source": [
    "import os\n",
    "import librosa\n",
    "import numpy as np\n",
    "import tensorflow as tf\n",
    "from tensorflow.keras.models import Sequential\n",
    "from tensorflow.keras.layers import Conv2D, MaxPooling2D, Flatten, Dense, Dropout"
   ]
  },
  {
   "cell_type": "code",
   "execution_count": 2,
   "id": "0147a832",
   "metadata": {},
   "outputs": [],
   "source": [
    "audio_dir = 'C://Users//jasmi//Dissertation Project//Data//Archive_2'"
   ]
  },
  {
   "cell_type": "code",
   "execution_count": 5,
   "id": "fbf42e49",
   "metadata": {},
   "outputs": [],
   "source": [
    "# Define the number of MFCC coefficients to extract\n",
    "num_mfcc = 30"
   ]
  },
  {
   "cell_type": "code",
   "execution_count": 8,
   "id": "a98c399c",
   "metadata": {},
   "outputs": [],
   "source": [
    "# Load the audio files and their corresponding labels\n",
    "audio_files = []\n",
    "labels = []\n",
    "for label in os.listdir(audio_dir):\n",
    "    label_dir = os.path.join(audio_dir, label)\n",
    "    for audio_file in os.listdir(label_dir):\n",
    "        audio_file_path = os.path.join(label_dir, audio_file)\n",
    "        audio_data, sr = librosa.load(audio_file_path, sr=None)\n",
    "        mfcc_features = librosa.feature.mfcc(y=audio_data, sr=sr, n_mfcc=num_mfcc)\n",
    "        audio_files.append((mfcc_features, label))\n",
    "        labels.append(label)"
   ]
  },
  {
   "cell_type": "code",
   "execution_count": 10,
   "id": "cb797bfd",
   "metadata": {},
   "outputs": [
    {
     "name": "stdout",
     "output_type": "stream",
     "text": [
      "Audio file name: Asthma\n",
      "Label: Asthma\n",
      "Audio file name: Asthma\n",
      "Label: Asthma\n",
      "Audio file name: Bronchiectasis\n",
      "Label: Bronchiectasis\n",
      "Audio file name: Bronchiectasis\n",
      "Label: Bronchiectasis\n",
      "Audio file name: Bronchiectasis\n",
      "Label: Bronchiectasis\n",
      "Audio file name: Bronchiectasis\n",
      "Label: Bronchiectasis\n",
      "Audio file name: Bronchiectasis\n",
      "Label: Bronchiectasis\n",
      "Audio file name: Bronchiectasis\n",
      "Label: Bronchiectasis\n",
      "Audio file name: Bronchiectasis\n",
      "Label: Bronchiectasis\n",
      "Audio file name: Bronchiectasis\n",
      "Label: Bronchiectasis\n",
      "Audio file name: Bronchiectasis\n",
      "Label: Bronchiectasis\n",
      "Audio file name: Bronchiectasis\n",
      "Label: Bronchiectasis\n",
      "Audio file name: Bronchiectasis\n",
      "Label: Bronchiectasis\n",
      "Audio file name: Bronchiectasis\n",
      "Label: Bronchiectasis\n",
      "Audio file name: Bronchiectasis\n",
      "Label: Bronchiectasis\n",
      "Audio file name: Bronchiectasis\n",
      "Label: Bronchiectasis\n",
      "Audio file name: Bronchiectasis\n",
      "Label: Bronchiectasis\n",
      "Audio file name: Bronchiectasis\n",
      "Label: Bronchiectasis\n",
      "Audio file name: Bronchiectasis\n",
      "Label: Bronchiectasis\n",
      "Audio file name: Bronchiectasis\n",
      "Label: Bronchiectasis\n"
     ]
    }
   ],
   "source": [
    "# Print the name of each audio file and its corresponding label, up to 20 files\n",
    "for i in range(min(20, len(audio_files))):\n",
    "    print(\"Audio file name:\", audio_files[i][1])\n",
    "    print(\"Label:\", labels[i])"
   ]
  },
  {
   "cell_type": "code",
   "execution_count": null,
   "id": "532a0c7d",
   "metadata": {},
   "outputs": [],
   "source": [
    "# Print the number of audio files and their labels\n",
    "print(\"Number of audio files:\", len(audio_files))\n",
    "print(\"Number of labels:\", len(labels))"
   ]
  },
  {
   "cell_type": "code",
   "execution_count": null,
   "id": "dee127bd",
   "metadata": {},
   "outputs": [],
   "source": [
    "# Extract audio features\n",
    "features = []\n",
    "for audio in audio_files:\n",
    "    feature = librosa.feature.mfcc(audio, sr=sr)\n",
    "    features.append(feature)"
   ]
  },
  {
   "cell_type": "code",
   "execution_count": null,
   "id": "f0d736a4",
   "metadata": {},
   "outputs": [],
   "source": [
    "# Preprocess the audio features\n",
    "features = np.array(features)\n",
    "features = np.expand_dims(features, axis=-1)\n",
    "features = tf.keras.utils.normalize(features, axis=-1)\n",
    "features = tf.cast(features, dtype=tf.float32)"
   ]
  },
  {
   "cell_type": "code",
   "execution_count": null,
   "id": "70c786e4",
   "metadata": {},
   "outputs": [],
   "source": [
    "# Define the CNN architecture\n",
    "model = keras.Sequential([\n",
    "    keras.layers.Conv2D(32, (3, 3), activation='relu', input_shape=(features.shape[1], features"
   ]
  }
 ],
 "metadata": {
  "kernelspec": {
   "display_name": "Python 3 (ipykernel)",
   "language": "python",
   "name": "python3"
  },
  "language_info": {
   "codemirror_mode": {
    "name": "ipython",
    "version": 3
   },
   "file_extension": ".py",
   "mimetype": "text/x-python",
   "name": "python",
   "nbconvert_exporter": "python",
   "pygments_lexer": "ipython3",
   "version": "3.9.7"
  }
 },
 "nbformat": 4,
 "nbformat_minor": 5
}
