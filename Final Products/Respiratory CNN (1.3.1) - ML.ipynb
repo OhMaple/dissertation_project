{
 "cells": [
  {
   "cell_type": "code",
   "execution_count": null,
   "outputs": [],
   "source": [
    "# Import & Install Dependencies\n",
    "# !pip install tensorflow tensorflow-gpu tensorflow-io matplotlib"
   ],
   "metadata": {
    "collapsed": false,
    "ExecuteTime": {
     "start_time": "2023-05-15T19:00:19.946166Z",
     "end_time": "2023-05-15T19:00:19.963296Z"
    }
   }
  },
  {
   "cell_type": "code",
   "execution_count": null,
   "metadata": {
    "ExecuteTime": {
     "start_time": "2023-05-15T15:12:48.147494Z",
     "end_time": "2023-05-15T15:12:48.320317Z"
    }
   },
   "outputs": [],
   "source": [
    "# Load dependencies!\n",
    "import os\n",
    "\n",
    "import numpy as np\n",
    "from matplotlib import pyplot as plt\n",
    "import tensorflow as tf\n",
    "import tensorflow_io as tfio"
   ]
  },
  {
   "cell_type": "markdown",
   "metadata": {},
   "source": [
    "<div class=\"alert alert-block alert-info\">\n",
    "Data Loading Function!\n",
    "</div>"
   ]
  },
  {
   "cell_type": "code",
   "execution_count": null,
   "metadata": {
    "ExecuteTime": {
     "start_time": "2023-05-15T19:01:01.627430Z",
     "end_time": "2023-05-15T19:01:01.647494Z"
    }
   },
   "outputs": [],
   "source": [
    "# Defining paths!\n",
    "Asthma_File = os.path.join('Data','Archive_2','Asthma','103_2b2_Ar_mc_LittC2SE.wav')\n",
    "Bronchiectasis_File = os.path.join('Data','Archive_2','Bronchiectasis','111_1b2_Tc_sc_Meditron.wav')\n",
    "Bronchiolitis_File = os.path.join('Data','Archive_2','Bronchiolitis','149_1b1_Al_sc_Meditron.wav')\n",
    "COPD_File = os.path.join('Data','Archive_2','COPD_Amended','104_1b1_Ar_sc_Litt3200.wav')\n",
    "Healthy_File = os.path.join('Data','Archive_2','Healthy','102_1b1_Ar_sc_Meditron.wav')\n",
    "LRTI_File = os.path.join('Data','Archive_2','LRTI','108_1b1_Al_sc_Meditron.wav')\n",
    "Pneumonia_File = os.path.join('Data','Archive_2','Pneumonia','122_2b1_Al_mc_LittC2SE.wav')\n",
    "URTI_File = os.path.join('Data','Archive_2','URTI','101_1b1_Al_sc_Meditron.wav')"
   ]
  },
  {
   "cell_type": "code",
   "execution_count": null,
   "metadata": {
    "ExecuteTime": {
     "start_time": "2023-05-15T19:01:03.666159Z",
     "end_time": "2023-05-15T19:01:03.682315Z"
    }
   },
   "outputs": [],
   "source": [
    "def load_wav(filename):\n",
    "    # Load wav file\n",
    "    file_contents = tf.io.read_file(filename)\n",
    "    # Decode wav (tensors by channel)\n",
    "    wav, sample_rate = tf.audio.decode_wav(file_contents, desired_channels=1)\n",
    "    # Removes trailing axis\n",
    "    wav = tf.squeeze(wav, axis=-1)\n",
    "    sample_rate = tf.cast(sample_rate, dtype=tf.int64)\n",
    "    # Goes from 44100Hz to 16000Hz - amp of audio signal\n",
    "    wav = tfio.audio.resample(wav, rate_in=sample_rate, rate_out=16000)\n",
    "    return wav"
   ]
  },
  {
   "cell_type": "code",
   "execution_count": null,
   "metadata": {
    "ExecuteTime": {
     "start_time": "2023-05-15T15:12:48.194261Z",
     "end_time": "2023-05-15T15:12:49.838896Z"
    }
   },
   "outputs": [],
   "source": [
    "asth_wave = load_wav(Asthma_File)\n",
    "bronchsis_wave = load_wav(Bronchiectasis_File)\n",
    "bronchtis_wave = load_wav(Bronchiolitis_File)\n",
    "COPD_wave = load_wav(COPD_File)\n",
    "health_wave = load_wav(Healthy_File)\n",
    "LRTI_wave = load_wav(LRTI_File)\n",
    "Pneu_wave = load_wav(Pneumonia_File)\n",
    "URTI_wave = load_wav(URTI_File)"
   ]
  },
  {
   "cell_type": "code",
   "execution_count": null,
   "metadata": {
    "ExecuteTime": {
     "start_time": "2023-05-15T15:12:49.839895Z",
     "end_time": "2023-05-15T15:12:50.120256Z"
    }
   },
   "outputs": [],
   "source": [
    "plt.plot(Pneu_wave)\n",
    "plt.plot(asth_wave)\n",
    "# plt.plot(bronchsis_wave)\n",
    "# plt.plot(bronchtis_wave)\n",
    "plt.plot(COPD_wave)\n",
    "# plt.plot(health_wave)\n",
    "# plt.plot(LRTI_wave)\n",
    "# plt.plot(URTI_wave)\n",
    "plt.show()"
   ]
  },
  {
   "cell_type": "markdown",
   "metadata": {},
   "source": [
    "Wave to Spectrogram!"
   ]
  },
  {
   "cell_type": "code",
   "execution_count": null,
   "metadata": {
    "ExecuteTime": {
     "start_time": "2023-05-15T15:12:50.123257Z",
     "end_time": "2023-05-15T15:12:50.166803Z"
    }
   },
   "outputs": [],
   "source": [
    "# Defining paths (again)!\n",
    "Asthma = os.path.join('Data','Archive_2','Asthma')\n",
    "Bronchiectasis = os.path.join('Data','Archive_2','Bronchiectasis')\n",
    "Bronchiolitis = os.path.join('Data','Archive_2','Bronchiolitis')\n",
    "COPD = os.path.join('Data','Archive_2','COPD_Amended')\n",
    "Healthy = os.path.join('Data','Archive_2','Healthy')\n",
    "LRTI = os.path.join('Data','Archive_2','LRTI')\n",
    "Pneumonia = os.path.join('Data','Archive_2','Pneumonia')\n",
    "URTI = os.path.join('Data','Archive_2','URTI')"
   ]
  },
  {
   "cell_type": "code",
   "execution_count": null,
   "metadata": {
    "ExecuteTime": {
     "start_time": "2023-05-15T15:12:50.137071Z",
     "end_time": "2023-05-15T15:12:50.203083Z"
    }
   },
   "outputs": [],
   "source": [
    "# Tensorflow Dataset\n",
    "# Looks for any wav files within each directory\n",
    "AsthmaTFDS = tf.data.Dataset.list_files(Asthma+'\\*.wav')\n",
    "BronchiectasisTFDS = tf.data.Dataset.list_files(Bronchiectasis+'\\*.wav')\n",
    "BronchiolitisTFDS = tf.data.Dataset.list_files(Bronchiolitis+'\\*.wav')\n",
    "COPDTFDS = tf.data.Dataset.list_files(COPD+'\\*.wav')\n",
    "HealthyTFDS = tf.data.Dataset.list_files(Healthy+'\\*.wav')\n",
    "LRTITFDS = tf.data.Dataset.list_files(LRTI+'\\*.wav')\n",
    "PneumoniaTFDS = tf.data.Dataset.list_files(Pneumonia+'\\*.wav')\n",
    "URTITFDS = tf.data.Dataset.list_files(URTI+'\\*.wav')"
   ]
  },
  {
   "cell_type": "code",
   "execution_count": null,
   "outputs": [],
   "source": [
    "# One-Hot encoding so the model can understand the different labels and classify recordings\n",
    "num_classes = 8\n",
    "def one_hot_label_maker(audio, label):\n",
    "    one_hot_label = tf.one_hot(label, num_classes)\n",
    "    return audio, one_hot_label"
   ],
   "metadata": {
    "collapsed": false,
    "ExecuteTime": {
     "start_time": "2023-05-15T15:12:50.200263Z",
     "end_time": "2023-05-15T15:12:50.213841Z"
    }
   }
  },
  {
   "cell_type": "code",
   "execution_count": null,
   "outputs": [],
   "source": [
    "# Was a debug piece of code to print outputs so it was known what was going in\n",
    "# def debug(a, b):\n",
    "    # print(a)\n",
    "    # print(b)"
   ],
   "metadata": {
    "collapsed": false,
    "ExecuteTime": {
     "start_time": "2023-05-15T15:12:50.214840Z",
     "end_time": "2023-05-15T15:12:50.233963Z"
    }
   }
  },
  {
   "cell_type": "code",
   "execution_count": null,
   "outputs": [],
   "source": [
    "Asthma_Samples = tf.data.Dataset.zip((AsthmaTFDS, tf.data.Dataset.from_tensor_slices(tf.fill(len(AsthmaTFDS), 0))))\n",
    "\n",
    "Bronchiectasis_Samples = tf.data.Dataset.zip((BronchiectasisTFDS, tf.data.Dataset.from_tensor_slices(tf.fill(len(BronchiectasisTFDS), 1))))\n",
    "\n",
    "Bronchiolitis_Samples = tf.data.Dataset.zip((BronchiolitisTFDS, tf.data.Dataset.from_tensor_slices(tf.fill(len(BronchiolitisTFDS), 2))))\n",
    "\n",
    "COPD_Samples = tf.data.Dataset.zip((COPDTFDS, tf.data.Dataset.from_tensor_slices(tf.fill(len(COPDTFDS), 3))))\n",
    "\n",
    "Healthy_Samples = tf.data.Dataset.zip((HealthyTFDS, tf.data.Dataset.from_tensor_slices(tf.fill(len(HealthyTFDS), 4))))\n",
    "\n",
    "LRTI_Samples = tf.data.Dataset.zip((LRTITFDS, tf.data.Dataset.from_tensor_slices(tf.fill(len(LRTITFDS), 5))))\n",
    "\n",
    "Pneumonia_Samples = tf.data.Dataset.zip((PneumoniaTFDS, tf.data.Dataset.from_tensor_slices(tf.fill(len(PneumoniaTFDS), 6))))\n",
    "\n",
    "URTI_Samples = tf.data.Dataset.zip((URTITFDS, tf.data.Dataset.from_tensor_slices(tf.fill(len(URTITFDS), 7))))\n",
    "\n",
    "all_data = []\n",
    "print(len(all_data))\n",
    "all_data = Asthma_Samples.concatenate(Bronchiectasis_Samples)\n",
    "print(len(all_data))\n",
    "all_data = all_data.concatenate(Bronchiolitis_Samples)\n",
    "print(len(all_data))\n",
    "all_data = all_data.concatenate(COPD_Samples)\n",
    "print(len(all_data))\n",
    "all_data = all_data.concatenate(Healthy_Samples)\n",
    "print(len(all_data))\n",
    "all_data = all_data.concatenate(LRTI_Samples)\n",
    "print(len(all_data))\n",
    "all_data = all_data.concatenate(Pneumonia_Samples)\n",
    "print(len(all_data))\n",
    "all_data = all_data.concatenate(URTI_Samples)\n",
    "print(len(all_data))"
   ],
   "metadata": {
    "collapsed": false,
    "ExecuteTime": {
     "start_time": "2023-05-15T15:12:50.235963Z",
     "end_time": "2023-05-15T15:12:50.291234Z"
    }
   }
  },
  {
   "cell_type": "code",
   "execution_count": null,
   "outputs": [],
   "source": [
    "all_data = all_data.map(one_hot_label_maker)"
   ],
   "metadata": {
    "collapsed": false,
    "ExecuteTime": {
     "start_time": "2023-05-15T15:12:50.261577Z",
     "end_time": "2023-05-15T15:12:50.308140Z"
    }
   }
  },
  {
   "cell_type": "code",
   "execution_count": null,
   "outputs": [],
   "source": [
    "# Was debugging to know the format of what was being passed, so the one_hot_label_maker function could be created correctly.\n",
    "# all_data = all_data.map(debug)"
   ],
   "metadata": {
    "collapsed": false,
    "ExecuteTime": {
     "start_time": "2023-05-15T15:12:50.310141Z",
     "end_time": "2023-05-15T15:12:50.328891Z"
    }
   }
  },
  {
   "cell_type": "code",
   "execution_count": null,
   "outputs": [],
   "source": [
    "data_iterator = all_data.shuffle(500).as_numpy_iterator()\n",
    "for item in all_data:\n",
    "    print(data_iterator.next())"
   ],
   "metadata": {
    "collapsed": false,
    "ExecuteTime": {
     "start_time": "2023-05-15T15:12:50.325891Z",
     "end_time": "2023-05-15T15:12:50.528533Z"
    }
   }
  },
  {
   "cell_type": "markdown",
   "source": [
    "Preprocessing and Function Building"
   ],
   "metadata": {
    "collapsed": false
   }
  },
  {
   "cell_type": "code",
   "execution_count": null,
   "outputs": [],
   "source": [
    "def preprocess(file_path, label):\n",
    "    wav = load_wav(file_path)\n",
    "    wav = wav[:320000]\n",
    "    zero_padding = tf.zeros([320000] - tf.shape(wav), dtype=tf.float32)\n",
    "    wav = tf.concat([zero_padding, wav],0)\n",
    "    spectrogram = tf.signal.stft(wav, frame_length=256, frame_step=128)\n",
    "    spectrogram = tf.abs(spectrogram)\n",
    "    spectrogram = tf.expand_dims(spectrogram, axis=2)\n",
    "    return spectrogram, label"
   ],
   "metadata": {
    "collapsed": false,
    "ExecuteTime": {
     "start_time": "2023-05-15T15:12:50.531534Z",
     "end_time": "2023-05-15T15:12:50.554133Z"
    }
   }
  },
  {
   "cell_type": "code",
   "execution_count": null,
   "outputs": [],
   "source": [
    "wav = None\n",
    "# wav = load_wav(Asthma_File) # 320000\n",
    "# wav = load_wav(Bronchiectasis_File) # 320000\n",
    "# wav = load_wav(Bronchiolitis_File) # 320000\n",
    "# wav = load_wav(COPD_File) # 253696\n",
    "# wav = load_wav(Healthy_File) # 320000\n",
    "# wav = load_wav(LRTI_File) # 320000\n",
    "# wav = load_wav(Pneumonia_File) # 320000\n",
    "# wav = load_wav(URTI_File) # 320000\n",
    "wav"
   ],
   "metadata": {
    "collapsed": false,
    "ExecuteTime": {
     "start_time": "2023-05-15T15:12:50.545296Z",
     "end_time": "2023-05-15T15:12:50.567136Z"
    }
   }
  },
  {
   "cell_type": "code",
   "execution_count": null,
   "outputs": [],
   "source": [
    "filepath, label = Healthy_Samples.shuffle(buffer_size=10000).as_numpy_iterator().next()"
   ],
   "metadata": {
    "collapsed": false,
    "ExecuteTime": {
     "start_time": "2023-05-15T15:12:50.563135Z",
     "end_time": "2023-05-15T15:12:50.576137Z"
    }
   }
  },
  {
   "cell_type": "code",
   "execution_count": null,
   "outputs": [],
   "source": [
    "# type(label)"
   ],
   "metadata": {
    "collapsed": false,
    "ExecuteTime": {
     "start_time": "2023-05-15T15:12:50.578138Z",
     "end_time": "2023-05-15T15:12:50.601146Z"
    }
   }
  },
  {
   "cell_type": "code",
   "execution_count": null,
   "outputs": [],
   "source": [
    "spectrogram, label = preprocess(filepath, label)"
   ],
   "metadata": {
    "collapsed": false,
    "ExecuteTime": {
     "start_time": "2023-05-15T15:12:50.594145Z",
     "end_time": "2023-05-15T15:12:50.865408Z"
    }
   }
  },
  {
   "cell_type": "code",
   "execution_count": null,
   "outputs": [],
   "source": [
    "spectrogram"
   ],
   "metadata": {
    "collapsed": false,
    "ExecuteTime": {
     "start_time": "2023-05-15T15:12:50.862412Z",
     "end_time": "2023-05-15T15:12:50.882253Z"
    }
   }
  },
  {
   "cell_type": "code",
   "execution_count": null,
   "outputs": [],
   "source": [
    "plt.figure(figsize=(20,30))\n",
    "plt.imshow(tf.transpose(spectrogram)[0])\n",
    "plt.show()"
   ],
   "metadata": {
    "collapsed": false,
    "ExecuteTime": {
     "start_time": "2023-05-15T15:12:50.879253Z",
     "end_time": "2023-05-15T15:12:51.006928Z"
    }
   }
  },
  {
   "cell_type": "code",
   "execution_count": null,
   "outputs": [],
   "source": [
    "type(label)"
   ],
   "metadata": {
    "collapsed": false,
    "ExecuteTime": {
     "start_time": "2023-05-15T15:12:51.001983Z",
     "end_time": "2023-05-15T15:12:51.041080Z"
    }
   }
  },
  {
   "cell_type": "markdown",
   "source": [
    "Training and Testing Partitions!"
   ],
   "metadata": {
    "collapsed": false
   }
  },
  {
   "cell_type": "code",
   "execution_count": null,
   "outputs": [],
   "source": [
    "# Tensorflow Data Pipeline\n",
    "all_data = all_data.map(preprocess)\n",
    "all_data = all_data.cache()\n",
    "all_data = all_data.shuffle(buffer_size=1000)\n",
    "all_data = all_data.batch(16)\n",
    "all_data = all_data.prefetch(8)"
   ],
   "metadata": {
    "collapsed": false,
    "ExecuteTime": {
     "start_time": "2023-05-15T15:12:51.019268Z",
     "end_time": "2023-05-15T15:12:51.376307Z"
    }
   }
  },
  {
   "cell_type": "code",
   "execution_count": null,
   "outputs": [],
   "source": [
    "len(all_data)"
   ],
   "metadata": {
    "collapsed": false,
    "ExecuteTime": {
     "start_time": "2023-05-15T15:12:51.377306Z",
     "end_time": "2023-05-15T15:12:51.398156Z"
    }
   }
  },
  {
   "cell_type": "code",
   "execution_count": null,
   "outputs": [],
   "source": [
    "# Testing and Training Partitions\n",
    "train = all_data.take(13) #80% - 92\n",
    "test = all_data.skip(13).take(3) #20% - 92/23"
   ],
   "metadata": {
    "collapsed": false,
    "ExecuteTime": {
     "start_time": "2023-05-15T15:12:51.395155Z",
     "end_time": "2023-05-15T15:12:51.438175Z"
    }
   }
  },
  {
   "cell_type": "code",
   "execution_count": null,
   "outputs": [],
   "source": [
    "samples, labels = train.as_numpy_iterator().next()"
   ],
   "metadata": {
    "collapsed": false,
    "ExecuteTime": {
     "start_time": "2023-05-15T15:12:51.410164Z",
     "end_time": "2023-05-15T15:12:58.340515Z"
    }
   }
  },
  {
   "cell_type": "code",
   "execution_count": null,
   "outputs": [],
   "source": [
    "samples.shape"
   ],
   "metadata": {
    "collapsed": false,
    "ExecuteTime": {
     "start_time": "2023-05-15T15:12:58.335514Z",
     "end_time": "2023-05-15T15:12:58.356520Z"
    }
   }
  },
  {
   "cell_type": "code",
   "execution_count": null,
   "outputs": [],
   "source": [
    "labels"
   ],
   "metadata": {
    "collapsed": false,
    "ExecuteTime": {
     "start_time": "2023-05-15T15:12:58.353519Z",
     "end_time": "2023-05-15T15:12:58.395381Z"
    }
   }
  },
  {
   "cell_type": "markdown",
   "source": [
    "Building the model!!"
   ],
   "metadata": {
    "collapsed": false
   }
  },
  {
   "cell_type": "code",
   "execution_count": null,
   "outputs": [],
   "source": [
    "# Import dependencies\n",
    "from tensorflow.keras.models import Sequential\n",
    "from tensorflow.keras.layers import Conv2D, Dense, Flatten"
   ],
   "metadata": {
    "collapsed": false,
    "ExecuteTime": {
     "start_time": "2023-05-15T15:12:58.369524Z",
     "end_time": "2023-05-15T15:12:58.407384Z"
    }
   }
  },
  {
   "cell_type": "code",
   "execution_count": null,
   "outputs": [],
   "source": [
    "model = Sequential()\n",
    "model.add(Conv2D(16, (3,3), activation='relu', input_shape=(2499, 129,1)))\n",
    "model.add(Conv2D(16, (3,3), activation='relu'))\n",
    "model.add(Flatten())\n",
    "model.add(Dense(128, activation='relu'))\n",
    "model.add(Dense(8, activation='softmax'))"
   ],
   "metadata": {
    "collapsed": false,
    "ExecuteTime": {
     "start_time": "2023-05-15T15:12:58.385379Z",
     "end_time": "2023-05-15T15:13:02.660273Z"
    }
   }
  },
  {
   "cell_type": "code",
   "execution_count": null,
   "outputs": [],
   "source": [
    "model.compile('Adam', loss='categorical_crossentropy', metrics=[tf.keras.metrics.Recall(), tf.keras.metrics.Precision(), tf.keras.metrics.Accuracy()])"
   ],
   "metadata": {
    "collapsed": false,
    "ExecuteTime": {
     "start_time": "2023-05-15T15:13:02.667277Z",
     "end_time": "2023-05-15T15:13:02.705312Z"
    }
   }
  },
  {
   "cell_type": "code",
   "execution_count": null,
   "outputs": [],
   "source": [
    "model.summary()"
   ],
   "metadata": {
    "collapsed": false,
    "ExecuteTime": {
     "start_time": "2023-05-15T15:13:02.707313Z",
     "end_time": "2023-05-15T15:13:02.763104Z"
    }
   }
  },
  {
   "cell_type": "markdown",
   "source": [
    "Training Time!!!"
   ],
   "metadata": {
    "collapsed": false
   }
  },
  {
   "cell_type": "code",
   "execution_count": null,
   "outputs": [],
   "source": [
    "hist = model.fit(train, epochs=16, validation_data=test)\n",
    "# Wanting loss decrease, recall & precision increase\n",
    "# G-mean, F1 implementation"
   ],
   "metadata": {
    "collapsed": false,
    "ExecuteTime": {
     "start_time": "2023-05-15T15:13:02.737695Z",
     "end_time": "2023-05-15T15:23:21.266600Z"
    }
   }
  },
  {
   "cell_type": "code",
   "execution_count": null,
   "outputs": [],
   "source": [
    "hist.history"
   ],
   "metadata": {
    "collapsed": false,
    "ExecuteTime": {
     "start_time": "2023-05-15T15:23:21.263687Z",
     "end_time": "2023-05-15T15:23:21.302764Z"
    }
   }
  },
  {
   "cell_type": "code",
   "execution_count": null,
   "outputs": [],
   "source": [
    "plt.title('Loss')\n",
    "plt.plot(hist.history['loss'], 'tab:purple')\n",
    "plt.plot(hist.history['val_loss'], 'deeppink')"
   ],
   "metadata": {
    "collapsed": false,
    "ExecuteTime": {
     "start_time": "2023-05-15T15:23:21.289698Z",
     "end_time": "2023-05-15T15:23:21.949030Z"
    }
   }
  },
  {
   "cell_type": "code",
   "execution_count": null,
   "outputs": [],
   "source": [
    "plt.title('Precision')\n",
    "plt.plot(hist.history['precision'], 'tab:purple')\n",
    "plt.plot(hist.history['val_precision'], 'deeppink')"
   ],
   "metadata": {
    "collapsed": false,
    "ExecuteTime": {
     "start_time": "2023-05-15T15:23:21.494698Z",
     "end_time": "2023-05-15T15:23:21.960033Z"
    }
   }
  },
  {
   "cell_type": "code",
   "execution_count": null,
   "outputs": [],
   "source": [
    "plt.title('Recall')\n",
    "plt.plot(hist.history['recall'], 'tab:purple')\n",
    "plt.plot(hist.history['val_recall'], 'deeppink')"
   ],
   "metadata": {
    "collapsed": false,
    "ExecuteTime": {
     "start_time": "2023-05-15T15:23:21.596698Z",
     "end_time": "2023-05-15T15:23:21.960033Z"
    }
   }
  },
  {
   "cell_type": "code",
   "execution_count": null,
   "outputs": [],
   "source": [
    "x_test, y_test = test.as_numpy_iterator().next()"
   ],
   "metadata": {
    "collapsed": false,
    "ExecuteTime": {
     "start_time": "2023-05-15T15:23:21.684881Z",
     "end_time": "2023-05-15T15:23:21.963034Z"
    }
   }
  },
  {
   "cell_type": "code",
   "execution_count": null,
   "outputs": [],
   "source": [
    "y_test.shape"
   ],
   "metadata": {
    "collapsed": false,
    "ExecuteTime": {
     "start_time": "2023-05-15T15:23:21.760782Z",
     "end_time": "2023-05-15T15:23:21.963034Z"
    }
   }
  },
  {
   "cell_type": "code",
   "execution_count": null,
   "outputs": [],
   "source": [
    "yhat = model.predict(x_test)"
   ],
   "metadata": {
    "collapsed": false,
    "ExecuteTime": {
     "start_time": "2023-05-15T15:23:21.805484Z",
     "end_time": "2023-05-15T15:23:22.615537Z"
    }
   }
  },
  {
   "cell_type": "code",
   "execution_count": null,
   "outputs": [],
   "source": [
    "yhat"
   ],
   "metadata": {
    "collapsed": false,
    "ExecuteTime": {
     "start_time": "2023-05-15T15:23:22.621539Z",
     "end_time": "2023-05-15T15:23:22.688553Z"
    }
   }
  },
  {
   "cell_type": "code",
   "execution_count": null,
   "outputs": [],
   "source": [
    "def get_disease(label_classification):\n",
    "    if label_classification == 0:\n",
    "        return \"Asthma\"\n",
    "    elif label_classification == 1:\n",
    "        return \"Bronchiectasis\"\n",
    "    elif label_classification == 2:\n",
    "        return \"Bronchiolitis\"\n",
    "    elif label_classification == 3:\n",
    "        return \"COPD\"\n",
    "    elif label_classification == 4:\n",
    "        return \"Healthy\"\n",
    "    elif label_classification == 5:\n",
    "        return \"LRTI\"\n",
    "    elif label_classification == 6:\n",
    "        return \"Pneumonia\"\n",
    "    elif label_classification == 7:\n",
    "        return \"URTI\"\n",
    "    else:\n",
    "        return \"Unknown\""
   ],
   "metadata": {
    "collapsed": false,
    "ExecuteTime": {
     "start_time": "2023-05-15T15:23:22.638542Z",
     "end_time": "2023-05-15T15:23:22.701075Z"
    }
   }
  },
  {
   "cell_type": "code",
   "execution_count": null,
   "outputs": [],
   "source": [
    "max_indices = np.argmax(yhat[:, 1:], axis=1)\n",
    "\n",
    "group_label = max_indices + 1\n",
    "\n",
    "for i, label in enumerate(group_label):\n",
    "    print(f\"Clip {i} is predicted as being {get_disease(label)}\")"
   ],
   "metadata": {
    "collapsed": false,
    "ExecuteTime": {
     "start_time": "2023-05-15T15:23:22.649545Z",
     "end_time": "2023-05-15T15:23:22.702076Z"
    }
   }
  },
  {
   "cell_type": "code",
   "execution_count": null,
   "outputs": [],
   "source": [
    "max_indices_control = np.argmax(y_test[:, 1:], axis=1)\n",
    "\n",
    "group_label_control = max_indices_control + 1\n",
    "\n",
    "for i, label in enumerate(group_label_control):\n",
    "    print(f\"Clip {i} is {get_disease(label)}\")"
   ],
   "metadata": {
    "collapsed": false,
    "ExecuteTime": {
     "start_time": "2023-05-15T15:23:22.664548Z",
     "end_time": "2023-05-15T15:23:22.702076Z"
    }
   }
  },
  {
   "cell_type": "code",
   "execution_count": null,
   "outputs": [],
   "source": [
    "# Saving the model\n",
    "# Had problems with library versions, so was unable to save model.\n",
    "model.save(\"C://Users//jasmi//Dissertation Project\")"
   ],
   "metadata": {
    "collapsed": false,
    "ExecuteTime": {
     "start_time": "2023-05-15T15:23:22.689554Z",
     "end_time": "2023-05-15T15:23:43.116323Z"
    }
   }
  },
  {
   "cell_type": "code",
   "execution_count": null,
   "outputs": [],
   "source": [
    "# cross validation - statistical significance\n",
    "# Ensure eroneous samples are represented, or small groups"
   ],
   "metadata": {
    "collapsed": false,
    "ExecuteTime": {
     "start_time": "2023-05-15T15:23:43.117324Z",
     "end_time": "2023-05-15T15:23:43.131272Z"
    }
   }
  },
  {
   "cell_type": "code",
   "execution_count": null,
   "outputs": [],
   "source": [
    "# Save machine learning file\n",
    "# Read me file\n",
    "# Images - appendix\n",
    "# Screen capture - Talk through code"
   ],
   "metadata": {
    "collapsed": false,
    "ExecuteTime": {
     "start_time": "2023-05-15T15:23:43.132271Z",
     "end_time": "2023-05-15T15:23:43.192834Z"
    }
   }
  },
  {
   "cell_type": "code",
   "execution_count": null,
   "outputs": [],
   "source": [
    "# Randomly select audio from COPD, that used instead of mass amount of COPD"
   ],
   "metadata": {
    "collapsed": false,
    "ExecuteTime": {
     "start_time": "2023-05-15T15:23:43.153784Z",
     "end_time": "2023-05-15T15:23:43.203294Z"
    }
   }
  }
 ],
 "metadata": {
  "kernelspec": {
   "display_name": "Python 3 (ipykernel)",
   "language": "python",
   "name": "python3"
  },
  "language_info": {
   "codemirror_mode": {
    "name": "ipython",
    "version": 3
   },
   "file_extension": ".py",
   "mimetype": "text/x-python",
   "name": "python",
   "nbconvert_exporter": "python",
   "pygments_lexer": "ipython3",
   "version": "3.9.7"
  }
 },
 "nbformat": 4,
 "nbformat_minor": 1
}
