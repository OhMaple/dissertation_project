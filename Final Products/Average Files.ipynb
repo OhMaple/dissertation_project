{
 "cells": [
  {
   "cell_type": "code",
   "execution_count": 8,
   "outputs": [],
   "source": [
    "import os\n",
    "import random"
   ],
   "metadata": {
    "collapsed": false,
    "ExecuteTime": {
     "start_time": "2023-05-14T12:03:37.351138Z",
     "end_time": "2023-05-14T12:03:37.363123Z"
    }
   }
  },
  {
   "cell_type": "code",
   "execution_count": 9,
   "outputs": [],
   "source": [
    "Asthma = \"C://Users//jasmi//Dissertation Project//Data//Archive_2//Asthma\"\n",
    "Bronchiectasis = \"C://Users//jasmi//Dissertation Project//Data//Archive_2//Bronchiectasis\"\n",
    "Bronchiolitis = \"C://Users//jasmi//Dissertation Project//Data//Archive_2//Bronchiolitis\"\n",
    "COPD = \"C://Users//jasmi//Dissertation Project//Data//Archive_2//COPD\"\n",
    "COPD_Amended = \"C://Users//jasmi//Dissertation Project//Data//Archive_2//COPD_Amended\"\n",
    "Healthy = \"C://Users//jasmi//Dissertation Project//Data//Archive_2//Healthy\"\n",
    "LRTI = \"C://Users//jasmi//Dissertation Project//Data//Archive_2//LRTI\"\n",
    "Pneumonia = \"C://Users//jasmi//Dissertation Project//Data//Archive_2//Pneumonia\"\n",
    "URTI = \"C://Users//jasmi//Dissertation Project//Data//Archive_2//URTI\""
   ],
   "metadata": {
    "collapsed": false,
    "ExecuteTime": {
     "start_time": "2023-05-14T12:03:38.218678Z",
     "end_time": "2023-05-14T12:03:38.240543Z"
    }
   }
  },
  {
   "cell_type": "code",
   "execution_count": 14,
   "outputs": [
    {
     "name": "stdout",
     "output_type": "stream",
     "text": [
      "The average number of files per folder is 36.29\n"
     ]
    }
   ],
   "source": [
    "folders = [Asthma, Bronchiectasis, Bronchiolitis, Healthy, LRTI, Pneumonia, URTI] # replace with the names of the folders you want to analyze\n",
    "\n",
    "total_files = 0\n",
    "for folder in folders:\n",
    "    path = os.path.join(os.getcwd(), folder)\n",
    "    num_files = len(os.listdir(path))\n",
    "    total_files += num_files\n",
    "\n",
    "average_files = total_files / len(folders)\n",
    "print(f'The average number of files per folder is {average_files:.2f}')"
   ],
   "metadata": {
    "collapsed": false,
    "ExecuteTime": {
     "start_time": "2023-05-14T12:05:14.209824Z",
     "end_time": "2023-05-14T12:05:14.221827Z"
    }
   }
  },
  {
   "cell_type": "code",
   "execution_count": 11,
   "outputs": [],
   "source": [
    "# Identify the source folder and number of files to choose\n",
    "source_folder = COPD  # replace with the name of the folder you want to choose files from\n",
    "num_files_to_choose = int(average_files)  # convert average_files to an integer\n",
    "\n",
    "# Identify the destination folder to copy the chosen files to\n",
    "destination_folder = COPD_Amended  # replace with the name of the folder you want to copy the files to"
   ],
   "metadata": {
    "collapsed": false,
    "ExecuteTime": {
     "start_time": "2023-05-14T12:03:39.988553Z",
     "end_time": "2023-05-14T12:03:39.999896Z"
    }
   }
  },
  {
   "cell_type": "code",
   "execution_count": 12,
   "outputs": [
    {
     "name": "stdout",
     "output_type": "stream",
     "text": [
      "File '186_3b3_Lr_mc_AKGC417L.wav' copied from 'C://Users//jasmi//Dissertation Project//Data//Archive_2//COPD' to 'C://Users//jasmi//Dissertation Project//Data//Archive_2//COPD_Amended'\n",
      "File '104_1b1_Ar_sc_Litt3200.wav' copied from 'C://Users//jasmi//Dissertation Project//Data//Archive_2//COPD' to 'C://Users//jasmi//Dissertation Project//Data//Archive_2//COPD_Amended'\n",
      "File '176_2b3_Pr_mc_AKGC417L_1.wav' copied from 'C://Users//jasmi//Dissertation Project//Data//Archive_2//COPD' to 'C://Users//jasmi//Dissertation Project//Data//Archive_2//COPD_Amended'\n",
      "File '170_2b2_Pl_mc_AKGC417L_1.wav' copied from 'C://Users//jasmi//Dissertation Project//Data//Archive_2//COPD' to 'C://Users//jasmi//Dissertation Project//Data//Archive_2//COPD_Amended'\n",
      "File '158_1p2_Pr_mc_AKGC417L.wav' copied from 'C://Users//jasmi//Dissertation Project//Data//Archive_2//COPD' to 'C://Users//jasmi//Dissertation Project//Data//Archive_2//COPD_Amended'\n",
      "File '146_8p3_Pl_mc_AKGC417L_1.wav' copied from 'C://Users//jasmi//Dissertation Project//Data//Archive_2//COPD' to 'C://Users//jasmi//Dissertation Project//Data//Archive_2//COPD_Amended'\n",
      "File '213_2p2_Pl_mc_AKGC417L.wav' copied from 'C://Users//jasmi//Dissertation Project//Data//Archive_2//COPD' to 'C://Users//jasmi//Dissertation Project//Data//Archive_2//COPD_Amended'\n",
      "File '154_2b4_Lr_mc_AKGC417L.wav' copied from 'C://Users//jasmi//Dissertation Project//Data//Archive_2//COPD' to 'C://Users//jasmi//Dissertation Project//Data//Archive_2//COPD_Amended'\n",
      "File '177_1b4_Lr_mc_AKGC417L.wav' copied from 'C://Users//jasmi//Dissertation Project//Data//Archive_2//COPD' to 'C://Users//jasmi//Dissertation Project//Data//Archive_2//COPD_Amended'\n",
      "File '221_2b2_Ar_mc_LittC2SE.wav' copied from 'C://Users//jasmi//Dissertation Project//Data//Archive_2//COPD' to 'C://Users//jasmi//Dissertation Project//Data//Archive_2//COPD_Amended'\n",
      "File '200_3p4_Pr_mc_AKGC417L.wav' copied from 'C://Users//jasmi//Dissertation Project//Data//Archive_2//COPD' to 'C://Users//jasmi//Dissertation Project//Data//Archive_2//COPD_Amended'\n",
      "File '162_2b3_Al_mc_AKGC417L.wav' copied from 'C://Users//jasmi//Dissertation Project//Data//Archive_2//COPD' to 'C://Users//jasmi//Dissertation Project//Data//Archive_2//COPD_Amended'\n",
      "File '151_2p2_Pl_mc_AKGC417L_1.wav' copied from 'C://Users//jasmi//Dissertation Project//Data//Archive_2//COPD' to 'C://Users//jasmi//Dissertation Project//Data//Archive_2//COPD_Amended'\n",
      "File '186_2b2_Lr_mc_AKGC417L.wav' copied from 'C://Users//jasmi//Dissertation Project//Data//Archive_2//COPD' to 'C://Users//jasmi//Dissertation Project//Data//Archive_2//COPD_Amended'\n",
      "File '134_2b2_Ar_mc_LittC2SE_1.wav' copied from 'C://Users//jasmi//Dissertation Project//Data//Archive_2//COPD' to 'C://Users//jasmi//Dissertation Project//Data//Archive_2//COPD_Amended'\n",
      "File '120_1b1_Ar_sc_Meditron_1.wav' copied from 'C://Users//jasmi//Dissertation Project//Data//Archive_2//COPD' to 'C://Users//jasmi//Dissertation Project//Data//Archive_2//COPD_Amended'\n",
      "File '204_2b5_Ll_mc_AKGC417L_1.wav' copied from 'C://Users//jasmi//Dissertation Project//Data//Archive_2//COPD' to 'C://Users//jasmi//Dissertation Project//Data//Archive_2//COPD_Amended'\n",
      "File '158_1p3_Ar_mc_AKGC417L_1.wav' copied from 'C://Users//jasmi//Dissertation Project//Data//Archive_2//COPD' to 'C://Users//jasmi//Dissertation Project//Data//Archive_2//COPD_Amended'\n",
      "File '107_2b3_Al_mc_AKGC417L.wav' copied from 'C://Users//jasmi//Dissertation Project//Data//Archive_2//COPD' to 'C://Users//jasmi//Dissertation Project//Data//Archive_2//COPD_Amended'\n",
      "File '221_2b2_Al_mc_LittC2SE.wav' copied from 'C://Users//jasmi//Dissertation Project//Data//Archive_2//COPD' to 'C://Users//jasmi//Dissertation Project//Data//Archive_2//COPD_Amended'\n",
      "File '172_1b3_Tc_mc_AKGC417L_1.wav' copied from 'C://Users//jasmi//Dissertation Project//Data//Archive_2//COPD' to 'C://Users//jasmi//Dissertation Project//Data//Archive_2//COPD_Amended'\n",
      "File '133_2p2_Al_mc_AKGC417L.wav' copied from 'C://Users//jasmi//Dissertation Project//Data//Archive_2//COPD' to 'C://Users//jasmi//Dissertation Project//Data//Archive_2//COPD_Amended'\n",
      "File '189_1b2_Lr_mc_LittC2SE_1.wav' copied from 'C://Users//jasmi//Dissertation Project//Data//Archive_2//COPD' to 'C://Users//jasmi//Dissertation Project//Data//Archive_2//COPD_Amended'\n",
      "File '151_3p2_Lr_mc_AKGC417L.wav' copied from 'C://Users//jasmi//Dissertation Project//Data//Archive_2//COPD' to 'C://Users//jasmi//Dissertation Project//Data//Archive_2//COPD_Amended'\n",
      "File '154_2b4_Pr_mc_AKGC417L_1.wav' copied from 'C://Users//jasmi//Dissertation Project//Data//Archive_2//COPD' to 'C://Users//jasmi//Dissertation Project//Data//Archive_2//COPD_Amended'\n",
      "File '207_2b2_Ar_mc_AKGC417L.wav' copied from 'C://Users//jasmi//Dissertation Project//Data//Archive_2//COPD' to 'C://Users//jasmi//Dissertation Project//Data//Archive_2//COPD_Amended'\n",
      "File '221_2b1_Ar_mc_LittC2SE_1.wav' copied from 'C://Users//jasmi//Dissertation Project//Data//Archive_2//COPD' to 'C://Users//jasmi//Dissertation Project//Data//Archive_2//COPD_Amended'\n",
      "File '198_6p1_Ar_mc_AKGC417L_1.wav' copied from 'C://Users//jasmi//Dissertation Project//Data//Archive_2//COPD' to 'C://Users//jasmi//Dissertation Project//Data//Archive_2//COPD_Amended'\n",
      "File '130_1p3_Pr_mc_AKGC417L.wav' copied from 'C://Users//jasmi//Dissertation Project//Data//Archive_2//COPD' to 'C://Users//jasmi//Dissertation Project//Data//Archive_2//COPD_Amended'\n",
      "File '138_1p4_Lr_mc_AKGC417L_1.wav' copied from 'C://Users//jasmi//Dissertation Project//Data//Archive_2//COPD' to 'C://Users//jasmi//Dissertation Project//Data//Archive_2//COPD_Amended'\n",
      "File '133_2p4_Pl_mc_AKGC417L_1.wav' copied from 'C://Users//jasmi//Dissertation Project//Data//Archive_2//COPD' to 'C://Users//jasmi//Dissertation Project//Data//Archive_2//COPD_Amended'\n",
      "File '158_1p3_Pr_mc_AKGC417L_1.wav' copied from 'C://Users//jasmi//Dissertation Project//Data//Archive_2//COPD' to 'C://Users//jasmi//Dissertation Project//Data//Archive_2//COPD_Amended'\n",
      "File '195_1b1_Al_sc_Litt3200_1.wav' copied from 'C://Users//jasmi//Dissertation Project//Data//Archive_2//COPD' to 'C://Users//jasmi//Dissertation Project//Data//Archive_2//COPD_Amended'\n",
      "File '200_2p4_Pl_mc_AKGC417L.wav' copied from 'C://Users//jasmi//Dissertation Project//Data//Archive_2//COPD' to 'C://Users//jasmi//Dissertation Project//Data//Archive_2//COPD_Amended'\n",
      "File '162_2b3_Tc_mc_AKGC417L.wav' copied from 'C://Users//jasmi//Dissertation Project//Data//Archive_2//COPD' to 'C://Users//jasmi//Dissertation Project//Data//Archive_2//COPD_Amended'\n",
      "File '145_3b2_Ar_mc_AKGC417L_1.wav' copied from 'C://Users//jasmi//Dissertation Project//Data//Archive_2//COPD' to 'C://Users//jasmi//Dissertation Project//Data//Archive_2//COPD_Amended'\n"
     ]
    }
   ],
   "source": [
    "# Get a list of all files in the source folder\n",
    "source_path = os.path.join(os.getcwd(), source_folder)\n",
    "files = os.listdir(source_path)\n",
    "\n",
    "# Choose random files from the list and copy them to the destination folder\n",
    "chosen_files = random.sample(files, num_files_to_choose)\n",
    "for file_name in chosen_files:\n",
    "    source_file_path = os.path.join(source_path, file_name)\n",
    "    destination_file_path = os.path.join(os.getcwd(), destination_folder, file_name)\n",
    "    with open(source_file_path, 'rb') as source_file, open(destination_file_path, 'wb') as destination_file:\n",
    "        destination_file.write(source_file.read())\n",
    "    print(f\"File '{file_name}' copied from '{source_folder}' to '{destination_folder}'\")"
   ],
   "metadata": {
    "collapsed": false,
    "ExecuteTime": {
     "start_time": "2023-05-14T12:03:45.402810Z",
     "end_time": "2023-05-14T12:03:45.836032Z"
    }
   }
  },
  {
   "cell_type": "code",
   "execution_count": null,
   "outputs": [],
   "source": [],
   "metadata": {
    "collapsed": false
   }
  }
 ],
 "metadata": {
  "kernelspec": {
   "display_name": "Python 3",
   "language": "python",
   "name": "python3"
  },
  "language_info": {
   "codemirror_mode": {
    "name": "ipython",
    "version": 2
   },
   "file_extension": ".py",
   "mimetype": "text/x-python",
   "name": "python",
   "nbconvert_exporter": "python",
   "pygments_lexer": "ipython2",
   "version": "2.7.6"
  }
 },
 "nbformat": 4,
 "nbformat_minor": 0
}
