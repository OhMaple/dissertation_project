{
 "cells": [
  {
   "cell_type": "code",
   "execution_count": 1,
   "metadata": {
    "ExecuteTime": {
     "start_time": "2023-04-25T10:30:11.522723Z",
     "end_time": "2023-04-25T10:30:11.539485Z"
    },
    "collapsed": true
   },
   "outputs": [],
   "source": [
    "# Import & Install Dependencies\n",
    "# !pip install tensorflow tensorflow-gpu tensorflow-io matplotlib"
   ]
  },
  {
   "cell_type": "code",
   "execution_count": 2,
   "metadata": {
    "ExecuteTime": {
     "start_time": "2023-04-25T10:30:12.182816Z",
     "end_time": "2023-04-25T10:30:15.697540Z"
    }
   },
   "outputs": [],
   "source": [
    "# Load dependencies!\n",
    "import os\n",
    "\n",
    "import numpy as np\n",
    "from matplotlib import pyplot as plt\n",
    "import tensorflow as tf\n",
    "import tensorflow_io as tfio\n",
    "from sklearn.model_selection import KFold"
   ]
  },
  {
   "cell_type": "markdown",
   "metadata": {},
   "source": [
    "<div class=\"alert alert-block alert-info\">\n",
    "Data Loading Function!\n",
    "</div>"
   ]
  },
  {
   "cell_type": "code",
   "execution_count": 3,
   "metadata": {
    "ExecuteTime": {
     "start_time": "2023-04-25T10:30:17.250242Z",
     "end_time": "2023-04-25T10:30:17.258411Z"
    }
   },
   "outputs": [],
   "source": [
    "# Defining paths\n",
    "Asthma_File = os.path.join('Data','Archive_2','Asthma','103_2b2_Ar_mc_LittC2SE.wav')\n",
    "Bronchiectasis_File = os.path.join('Data','Archive_2','Bronchiectasis','111_1b2_Tc_sc_Meditron.wav')\n",
    "Bronchiolitis_File = os.path.join('Data','Archive_2','Bronchiolitis','149_1b1_Al_sc_Meditron.wav')\n",
    "COPD_File = os.path.join('Data','Archive_2','COPD','104_1b1_Al_sc_Litt3200.wav')\n",
    "Healthy_File = os.path.join('Data','Archive_2','Healthy','102_1b1_Ar_sc_Meditron.wav')\n",
    "LRTI_File = os.path.join('Data','Archive_2','LRTI','108_1b1_Al_sc_Meditron.wav')\n",
    "Pneumonia_File = os.path.join('Data','Archive_2','Pneumonia','122_2b1_Al_mc_LittC2SE.wav')\n",
    "URTI_File = os.path.join('Data','Archive_2','URTI','101_1b1_Al_sc_Meditron.wav')"
   ]
  },
  {
   "cell_type": "code",
   "execution_count": 4,
   "metadata": {
    "ExecuteTime": {
     "start_time": "2023-04-25T10:30:18.605592Z",
     "end_time": "2023-04-25T10:30:18.633342Z"
    }
   },
   "outputs": [],
   "source": [
    "def load_wav(filename):\n",
    "    # Load wav file\n",
    "    file_contents = tf.io.read_file(filename)\n",
    "    # Decode wav (tensors by channel)\n",
    "    wav, sample_rate = tf.audio.decode_wav(file_contents, desired_channels=1)\n",
    "    # Removes trailing axis\n",
    "    wav = tf.squeeze(wav, axis=-1)\n",
    "    sample_rate = tf.cast(sample_rate, dtype=tf.int64)\n",
    "    # Goes from 44100Hz to 16000Hz - amp of audio signal\n",
    "    wav = tfio.audio.resample(wav, rate_in=sample_rate, rate_out=16000)\n",
    "    return wav"
   ]
  },
  {
   "cell_type": "code",
   "execution_count": 5,
   "metadata": {
    "ExecuteTime": {
     "start_time": "2023-04-25T10:30:19.833139Z",
     "end_time": "2023-04-25T10:30:21.512743Z"
    }
   },
   "outputs": [
    {
     "name": "stdout",
     "output_type": "stream",
     "text": [
      "WARNING:tensorflow:5 out of the last 5 calls to <function pfor.<locals>.f at 0x0000022C15FD4A60> triggered tf.function retracing. Tracing is expensive and the excessive number of tracings could be due to (1) creating @tf.function repeatedly in a loop, (2) passing tensors with different shapes, (3) passing Python objects instead of tensors. For (1), please define your @tf.function outside of the loop. For (2), @tf.function has reduce_retracing=True option that can avoid unnecessary retracing. For (3), please refer to https://www.tensorflow.org/guide/function#controlling_retracing and https://www.tensorflow.org/api_docs/python/tf/function for  more details.\n",
      "WARNING:tensorflow:6 out of the last 6 calls to <function pfor.<locals>.f at 0x0000022C0993B160> triggered tf.function retracing. Tracing is expensive and the excessive number of tracings could be due to (1) creating @tf.function repeatedly in a loop, (2) passing tensors with different shapes, (3) passing Python objects instead of tensors. For (1), please define your @tf.function outside of the loop. For (2), @tf.function has reduce_retracing=True option that can avoid unnecessary retracing. For (3), please refer to https://www.tensorflow.org/guide/function#controlling_retracing and https://www.tensorflow.org/api_docs/python/tf/function for  more details.\n"
     ]
    }
   ],
   "source": [
    "asth_wave = load_wav(Asthma_File)\n",
    "bronchsis_wave = load_wav(Bronchiectasis_File)\n",
    "bronchtis_wave = load_wav(Bronchiolitis_File)\n",
    "COPD_wave = load_wav(COPD_File)\n",
    "health_wave = load_wav(Healthy_File)\n",
    "LRTI_wave = load_wav(LRTI_File)\n",
    "Pneu_wave = load_wav(Pneumonia_File)\n",
    "URTI_wave = load_wav(URTI_File)"
   ]
  },
  {
   "cell_type": "code",
   "execution_count": 6,
   "metadata": {
    "ExecuteTime": {
     "start_time": "2023-04-25T10:30:21.520529Z",
     "end_time": "2023-04-25T10:30:21.762775Z"
    }
   },
   "outputs": [
    {
     "data": {
      "text/plain": "<Figure size 432x288 with 1 Axes>",
      "image/png": "[encoded data removed]"
     },
     "metadata": {
      "needs_background": "light"
     },
     "output_type": "display_data"
    }
   ],
   "source": [
    "plt.plot(Pneu_wave)\n",
    "plt.plot(asth_wave)\n",
    "# plt.plot(bronchsis_wave)\n",
    "# plt.plot(bronchtis_wave)\n",
    "# plt.plot(COPD_wave)\n",
    "# plt.plot(health_wave)\n",
    "# plt.plot(LRTI_wave)\n",
    "# plt.plot(URTI_wave)\n",
    "plt.show()"
   ]
  },
  {
   "cell_type": "markdown",
   "metadata": {},
   "source": [
    "Wave to Spectrogram"
   ]
  },
  {
   "cell_type": "code",
   "execution_count": 7,
   "metadata": {
    "ExecuteTime": {
     "start_time": "2023-04-25T10:30:23.167221Z",
     "end_time": "2023-04-25T10:30:23.172829Z"
    }
   },
   "outputs": [],
   "source": [
    "# Defining paths (whole folder)\n",
    "Asthma = os.path.join('Data','Archive_2','Asthma')\n",
    "Bronchiectasis = os.path.join('Data','Archive_2','Bronchiectasis')\n",
    "Bronchiolitis = os.path.join('Data','Archive_2','Bronchiolitis')\n",
    "# COPD = os.path.join('Data','Archive_2','COPD')\n",
    "Healthy = os.path.join('Data','Archive_2','Healthy')\n",
    "LRTI = os.path.join('Data','Archive_2','LRTI')\n",
    "Pneumonia = os.path.join('Data','Archive_2','Pneumonia')\n",
    "URTI = os.path.join('Data','Archive_2','URTI')"
   ]
  },
  {
   "cell_type": "code",
   "execution_count": 8,
   "metadata": {
    "ExecuteTime": {
     "start_time": "2023-04-25T10:30:24.021611Z",
     "end_time": "2023-04-25T10:30:24.074475Z"
    }
   },
   "outputs": [],
   "source": [
    "# Tensorflow Dataset\n",
    "# Looks for any wav files in each directory\n",
    "AsthmaTFDS = tf.data.Dataset.list_files(Asthma+'\\*.wav')\n",
    "BronchiectasisTFDS = tf.data.Dataset.list_files(Bronchiectasis+'\\*.wav')\n",
    "BronchiolitisTFDS = tf.data.Dataset.list_files(Bronchiolitis+'\\*.wav')\n",
    "# COPDTFDS = tf.data.Dataset.list_files(COPD+'\\*.wav')\n",
    "HealthyTFDS = tf.data.Dataset.list_files(Healthy+'\\*.wav')\n",
    "LRTITFDS = tf.data.Dataset.list_files(LRTI+'\\*.wav')\n",
    "PneumoniaTFDS = tf.data.Dataset.list_files(Pneumonia+'\\*.wav')\n",
    "URTITFDS = tf.data.Dataset.list_files(URTI+'\\*.wav')"
   ]
  },
  {
   "cell_type": "code",
   "execution_count": 9,
   "metadata": {
    "ExecuteTime": {
     "start_time": "2023-04-25T10:30:25.381380Z",
     "end_time": "2023-04-25T10:30:25.392547Z"
    }
   },
   "outputs": [],
   "source": [
    "# COPDTFDS.as_numpy_iterator().next()"
   ]
  },
  {
   "cell_type": "code",
   "execution_count": 10,
   "outputs": [],
   "source": [
    "num_classes = 8\n",
    "def one_hot_label_maker(audio, label):\n",
    "    one_hot_label = tf.one_hot(label, num_classes)\n",
    "    return audio, one_hot_label"
   ],
   "metadata": {
    "collapsed": false,
    "ExecuteTime": {
     "start_time": "2023-04-25T10:30:26.450626Z",
     "end_time": "2023-04-25T10:30:26.462952Z"
    }
   }
  },
  {
   "cell_type": "code",
   "execution_count": 11,
   "outputs": [],
   "source": [
    "def debug(a, b):\n",
    "    print(a)\n",
    "    print(b)"
   ],
   "metadata": {
    "collapsed": false,
    "ExecuteTime": {
     "start_time": "2023-04-25T10:30:27.034653Z",
     "end_time": "2023-04-25T10:30:27.047010Z"
    }
   }
  },
  {
   "cell_type": "code",
   "execution_count": 12,
   "outputs": [
    {
     "name": "stdout",
     "output_type": "stream",
     "text": [
      "0\n",
      "34\n",
      "60\n",
      "130\n",
      "134\n",
      "208\n",
      "254\n"
     ]
    }
   ],
   "source": [
    "Asthma_Samples = tf.data.Dataset.zip((AsthmaTFDS, tf.data.Dataset.from_tensor_slices(tf.fill(len(AsthmaTFDS), 0))))\n",
    "\n",
    "Bronchiectasis_Samples = tf.data.Dataset.zip((BronchiectasisTFDS, tf.data.Dataset.from_tensor_slices(tf.fill(len(BronchiectasisTFDS), 1))))\n",
    "\n",
    "Bronchiolitis_Samples = tf.data.Dataset.zip((BronchiolitisTFDS, tf.data.Dataset.from_tensor_slices(tf.fill(len(BronchiolitisTFDS), 2))))\n",
    "\n",
    "# COPD_Samples = tf.data.Dataset.zip((COPDTFDS, tf.data.Dataset.from_tensor_slices(tf.fill(len(COPDTFDS), 3))))\n",
    "\n",
    "Healthy_Samples = tf.data.Dataset.zip((HealthyTFDS, tf.data.Dataset.from_tensor_slices(tf.fill(len(HealthyTFDS), 4))))\n",
    "\n",
    "LRTI_Samples = tf.data.Dataset.zip((LRTITFDS, tf.data.Dataset.from_tensor_slices(tf.fill(len(LRTITFDS), 5))))\n",
    "\n",
    "Pneumonia_Samples = tf.data.Dataset.zip((PneumoniaTFDS, tf.data.Dataset.from_tensor_slices(tf.fill(len(PneumoniaTFDS), 6))))\n",
    "\n",
    "URTI_Samples = tf.data.Dataset.zip((URTITFDS, tf.data.Dataset.from_tensor_slices(tf.fill(len(URTITFDS), 7))))\n",
    "\n",
    "all_data = []\n",
    "print(len(all_data))\n",
    "all_data = Asthma_Samples.concatenate(Bronchiectasis_Samples)\n",
    "print(len(all_data))\n",
    "all_data = all_data.concatenate(Bronchiolitis_Samples)\n",
    "print(len(all_data))\n",
    "# all_data = all_data.concatenate(COPD_Samples)\n",
    "# print(len(all_data))\n",
    "all_data = all_data.concatenate(Healthy_Samples)\n",
    "print(len(all_data))\n",
    "all_data = all_data.concatenate(LRTI_Samples)\n",
    "print(len(all_data))\n",
    "all_data = all_data.concatenate(Pneumonia_Samples)\n",
    "print(len(all_data))\n",
    "all_data = all_data.concatenate(URTI_Samples)\n",
    "print(len(all_data))"
   ],
   "metadata": {
    "collapsed": false,
    "ExecuteTime": {
     "start_time": "2023-04-25T10:30:27.635067Z",
     "end_time": "2023-04-25T10:30:27.681634Z"
    }
   }
  },
  {
   "cell_type": "code",
   "execution_count": 13,
   "outputs": [],
   "source": [
    "all_data = all_data.map(one_hot_label_maker)"
   ],
   "metadata": {
    "collapsed": false,
    "ExecuteTime": {
     "start_time": "2023-04-25T10:30:28.795124Z",
     "end_time": "2023-04-25T10:30:28.837126Z"
    }
   }
  },
  {
   "cell_type": "code",
   "execution_count": 14,
   "outputs": [],
   "source": [
    "# all_data = all_data.map(debug)"
   ],
   "metadata": {
    "collapsed": false,
    "ExecuteTime": {
     "start_time": "2023-04-25T10:30:29.508668Z",
     "end_time": "2023-04-25T10:30:29.522005Z"
    }
   }
  },
  {
   "cell_type": "code",
   "execution_count": 15,
   "outputs": [
    {
     "name": "stdout",
     "output_type": "stream",
     "text": [
      "(b'Data\\\\Archive_2\\\\Bronchiectasis\\\\168_1b1_Al_sc_Meditron.wav', array([0., 1., 0., 0., 0., 0., 0., 0.], dtype=float32))\n",
      "(b'Data\\\\Archive_2\\\\Healthy\\\\182_1b1_Tc_sc_Meditron_1.wav', array([0., 0., 0., 0., 1., 0., 0., 0.], dtype=float32))\n",
      "(b'Data\\\\Archive_2\\\\Healthy\\\\179_1b1_Al_sc_Meditron_1.wav', array([0., 0., 0., 0., 1., 0., 0., 0.], dtype=float32))\n",
      "(b'Data\\\\Archive_2\\\\Healthy\\\\187_1b1_Ll_sc_Meditron.wav', array([0., 0., 0., 0., 1., 0., 0., 0.], dtype=float32))\n",
      "(b'Data\\\\Archive_2\\\\Bronchiolitis\\\\173_1b1_Al_sc_Meditron_1.wav', array([0., 0., 1., 0., 0., 0., 0., 0.], dtype=float32))\n",
      "(b'Data\\\\Archive_2\\\\Pneumonia\\\\140_2b2_Tc_mc_LittC2SE.wav', array([0., 0., 0., 0., 0., 0., 1., 0.], dtype=float32))\n",
      "(b'Data\\\\Archive_2\\\\Pneumonia\\\\135_2b2_Ar_mc_LittC2SE.wav', array([0., 0., 0., 0., 0., 0., 1., 0.], dtype=float32))\n",
      "(b'Data\\\\Archive_2\\\\Healthy\\\\182_1b1_Tc_sc_Meditron.wav', array([0., 0., 0., 0., 1., 0., 0., 0.], dtype=float32))\n",
      "(b'Data\\\\Archive_2\\\\Bronchiectasis\\\\168_1b1_Al_sc_Meditron_1.wav', array([0., 1., 0., 0., 0., 0., 0., 0.], dtype=float32))\n",
      "(b'Data\\\\Archive_2\\\\URTI\\\\148_1b1_Al_sc_Meditron_1.wav', array([0., 0., 0., 0., 0., 0., 0., 1.], dtype=float32))\n",
      "(b'Data\\\\Archive_2\\\\Bronchiectasis\\\\201_1b3_Ar_sc_Meditron_1.wav', array([0., 1., 0., 0., 0., 0., 0., 0.], dtype=float32))\n",
      "(b'Data\\\\Archive_2\\\\Bronchiectasis\\\\116_1b2_Tc_sc_Meditron.wav', array([0., 1., 0., 0., 0., 0., 0., 0.], dtype=float32))\n",
      "(b'Data\\\\Archive_2\\\\Bronchiolitis\\\\161_1b1_Pl_sc_Meditron_1.wav', array([0., 0., 1., 0., 0., 0., 0., 0.], dtype=float32))\n",
      "(b'Data\\\\Archive_2\\\\Bronchiolitis\\\\167_1b1_Al_sc_Meditron_1.wav', array([0., 0., 1., 0., 0., 0., 0., 0.], dtype=float32))\n",
      "(b'Data\\\\Archive_2\\\\Bronchiectasis\\\\201_1b1_Ar_sc_Meditron_1.wav', array([0., 1., 0., 0., 0., 0., 0., 0.], dtype=float32))\n",
      "(b'Data\\\\Archive_2\\\\Pneumonia\\\\140_2b2_Ll_mc_LittC2SE_1.wav', array([0., 0., 0., 0., 0., 0., 1., 0.], dtype=float32))\n",
      "(b'Data\\\\Archive_2\\\\Pneumonia\\\\226_1b1_Al_sc_Meditron.wav', array([0., 0., 0., 0., 0., 0., 1., 0.], dtype=float32))\n",
      "(b'Data\\\\Archive_2\\\\Bronchiolitis\\\\167_1b1_Pr_sc_Meditron.wav', array([0., 0., 1., 0., 0., 0., 0., 0.], dtype=float32))\n",
      "(b'Data\\\\Archive_2\\\\Pneumonia\\\\135_2b1_Al_mc_LittC2SE.wav', array([0., 0., 0., 0., 0., 0., 1., 0.], dtype=float32))\n",
      "(b'Data\\\\Archive_2\\\\URTI\\\\129_1b1_Ar_sc_Meditron.wav', array([0., 0., 0., 0., 0., 0., 0., 1.], dtype=float32))\n",
      "(b'Data\\\\Archive_2\\\\Pneumonia\\\\219_2b1_Tc_mc_LittC2SE_1.wav', array([0., 0., 0., 0., 0., 0., 1., 0.], dtype=float32))\n",
      "(b'Data\\\\Archive_2\\\\Healthy\\\\102_1b1_Ar_sc_Meditron.wav', array([0., 0., 0., 0., 1., 0., 0., 0.], dtype=float32))\n",
      "(b'Data\\\\Archive_2\\\\URTI\\\\119_1b1_Ar_sc_Meditron_1.wav', array([0., 0., 0., 0., 0., 0., 0., 1.], dtype=float32))\n",
      "(b'Data\\\\Archive_2\\\\Bronchiectasis\\\\111_1b3_Tc_sc_Meditron_1.wav', array([0., 1., 0., 0., 0., 0., 0., 0.], dtype=float32))\n",
      "(b'Data\\\\Archive_2\\\\Pneumonia\\\\135_2b2_Ar_mc_LittC2SE_1.wav', array([0., 0., 0., 0., 0., 0., 1., 0.], dtype=float32))\n",
      "(b'Data\\\\Archive_2\\\\Healthy\\\\152_1b1_Al_sc_Meditron.wav', array([0., 0., 0., 0., 1., 0., 0., 0.], dtype=float32))\n",
      "(b'Data\\\\Archive_2\\\\Pneumonia\\\\122_2b3_Al_mc_LittC2SE_1.wav', array([0., 0., 0., 0., 0., 0., 1., 0.], dtype=float32))\n",
      "(b'Data\\\\Archive_2\\\\URTI\\\\188_1b1_Pl_sc_Meditron_1.wav', array([0., 0., 0., 0., 0., 0., 0., 1.], dtype=float32))\n",
      "(b'Data\\\\Archive_2\\\\URTI\\\\210_1b1_Al_sc_Meditron.wav', array([0., 0., 0., 0., 0., 0., 0., 1.], dtype=float32))\n",
      "(b'Data\\\\Archive_2\\\\Healthy\\\\125_1b1_Tc_sc_Meditron.wav', array([0., 0., 0., 0., 1., 0., 0., 0.], dtype=float32))\n",
      "(b'Data\\\\Archive_2\\\\Healthy\\\\179_1b1_Tc_sc_Meditron_1.wav', array([0., 0., 0., 0., 1., 0., 0., 0.], dtype=float32))\n",
      "(b'Data\\\\Archive_2\\\\Bronchiectasis\\\\201_1b2_Al_sc_Meditron_1.wav', array([0., 1., 0., 0., 0., 0., 0., 0.], dtype=float32))\n",
      "(b'Data\\\\Archive_2\\\\Healthy\\\\184_1b1_Ar_sc_Meditron_1.wav', array([0., 0., 0., 0., 1., 0., 0., 0.], dtype=float32))\n",
      "(b'Data\\\\Archive_2\\\\Healthy\\\\187_1b1_Ll_sc_Meditron_1.wav', array([0., 0., 0., 0., 1., 0., 0., 0.], dtype=float32))\n",
      "(b'Data\\\\Archive_2\\\\Healthy\\\\121_1p1_Tc_sc_Meditron_1.wav', array([0., 0., 0., 0., 1., 0., 0., 0.], dtype=float32))\n",
      "(b'Data\\\\Archive_2\\\\Bronchiolitis\\\\206_1b1_Lr_sc_Meditron.wav', array([0., 0., 1., 0., 0., 0., 0., 0.], dtype=float32))\n",
      "(b'Data\\\\Archive_2\\\\URTI\\\\188_1b1_Tc_sc_Meditron.wav', array([0., 0., 0., 0., 0., 0., 0., 1.], dtype=float32))\n",
      "(b'Data\\\\Archive_2\\\\URTI\\\\101_1b1_Al_sc_Meditron.wav', array([0., 0., 0., 0., 0., 0., 0., 1.], dtype=float32))\n",
      "(b'Data\\\\Archive_2\\\\Healthy\\\\159_1b1_Ll_sc_Meditron.wav', array([0., 0., 0., 0., 1., 0., 0., 0.], dtype=float32))\n",
      "(b'Data\\\\Archive_2\\\\Bronchiectasis\\\\201_1b2_Ar_sc_Meditron_1.wav', array([0., 1., 0., 0., 0., 0., 0., 0.], dtype=float32))\n",
      "(b'Data\\\\Archive_2\\\\Pneumonia\\\\122_2b1_Al_mc_LittC2SE.wav', array([0., 0., 0., 0., 0., 0., 1., 0.], dtype=float32))\n",
      "(b'Data\\\\Archive_2\\\\Pneumonia\\\\135_2b2_Tc_mc_LittC2SE.wav', array([0., 0., 0., 0., 0., 0., 1., 0.], dtype=float32))\n",
      "(b'Data\\\\Archive_2\\\\Healthy\\\\144_1b1_Tc_sc_Meditron_1.wav', array([0., 0., 0., 0., 1., 0., 0., 0.], dtype=float32))\n",
      "(b'Data\\\\Archive_2\\\\Pneumonia\\\\191_2b1_Pl_mc_LittC2SE.wav', array([0., 0., 0., 0., 0., 0., 1., 0.], dtype=float32))\n",
      "(b'Data\\\\Archive_2\\\\Pneumonia\\\\191_2b1_Pr_mc_LittC2SE_1.wav', array([0., 0., 0., 0., 0., 0., 1., 0.], dtype=float32))\n",
      "(b'Data\\\\Archive_2\\\\URTI\\\\105_1b1_Tc_sc_Meditron.wav', array([0., 0., 0., 0., 0., 0., 0., 1.], dtype=float32))\n",
      "(b'Data\\\\Archive_2\\\\Pneumonia\\\\122_2b1_Ar_mc_LittC2SE_1.wav', array([0., 0., 0., 0., 0., 0., 1., 0.], dtype=float32))\n",
      "(b'Data\\\\Archive_2\\\\Pneumonia\\\\122_2b1_Al_mc_LittC2SE_1.wav', array([0., 0., 0., 0., 0., 0., 1., 0.], dtype=float32))\n",
      "(b'Data\\\\Archive_2\\\\Healthy\\\\202_1b1_Ar_sc_Meditron_1.wav', array([0., 0., 0., 0., 1., 0., 0., 0.], dtype=float32))\n",
      "(b'Data\\\\Archive_2\\\\Healthy\\\\153_1b1_Al_sc_Meditron.wav', array([0., 0., 0., 0., 1., 0., 0., 0.], dtype=float32))\n",
      "(b'Data\\\\Archive_2\\\\Pneumonia\\\\135_2b3_Ar_mc_LittC2SE_1.wav', array([0., 0., 0., 0., 0., 0., 1., 0.], dtype=float32))\n",
      "(b'Data\\\\Archive_2\\\\Bronchiectasis\\\\201_1b2_Ar_sc_Meditron.wav', array([0., 1., 0., 0., 0., 0., 0., 0.], dtype=float32))\n",
      "(b'Data\\\\Archive_2\\\\Pneumonia\\\\122_2b1_Tc_mc_LittC2SE_1.wav', array([0., 0., 0., 0., 0., 0., 1., 0.], dtype=float32))\n",
      "(b'Data\\\\Archive_2\\\\Bronchiectasis\\\\111_1b2_Tc_sc_Meditron_1.wav', array([0., 1., 0., 0., 0., 0., 0., 0.], dtype=float32))\n",
      "(b'Data\\\\Archive_2\\\\Pneumonia\\\\135_2b3_Tc_mc_LittC2SE.wav', array([0., 0., 0., 0., 0., 0., 1., 0.], dtype=float32))\n",
      "(b'Data\\\\Archive_2\\\\URTI\\\\190_1b1_Tc_sc_Meditron.wav', array([0., 0., 0., 0., 0., 0., 0., 1.], dtype=float32))\n",
      "(b'Data\\\\Archive_2\\\\Healthy\\\\208_1b1_Ll_sc_Meditron.wav', array([0., 0., 0., 0., 1., 0., 0., 0.], dtype=float32))\n",
      "(b'Data\\\\Archive_2\\\\Bronchiolitis\\\\149_1b1_Al_sc_Meditron_1.wav', array([0., 0., 1., 0., 0., 0., 0., 0.], dtype=float32))\n",
      "(b'Data\\\\Archive_2\\\\URTI\\\\137_1b1_Ar_sc_Meditron_1.wav', array([0., 0., 0., 0., 0., 0., 0., 1.], dtype=float32))\n",
      "(b'Data\\\\Archive_2\\\\Bronchiolitis\\\\173_1b1_Al_sc_Meditron.wav', array([0., 0., 1., 0., 0., 0., 0., 0.], dtype=float32))\n",
      "(b'Data\\\\Archive_2\\\\Pneumonia\\\\135_2b3_Pl_mc_LittC2SE_1.wav', array([0., 0., 0., 0., 0., 0., 1., 0.], dtype=float32))\n",
      "(b'Data\\\\Archive_2\\\\Healthy\\\\224_1b2_Al_sc_Meditron_1.wav', array([0., 0., 0., 0., 1., 0., 0., 0.], dtype=float32))\n",
      "(b'Data\\\\Archive_2\\\\URTI\\\\148_1b1_Al_sc_Meditron.wav', array([0., 0., 0., 0., 0., 0., 0., 1.], dtype=float32))\n",
      "(b'Data\\\\Archive_2\\\\URTI\\\\131_1b1_Al_sc_Meditron.wav', array([0., 0., 0., 0., 0., 0., 0., 1.], dtype=float32))\n",
      "(b'Data\\\\Archive_2\\\\Healthy\\\\121_1p1_Tc_sc_Meditron.wav', array([0., 0., 0., 0., 1., 0., 0., 0.], dtype=float32))\n",
      "(b'Data\\\\Archive_2\\\\Pneumonia\\\\135_2b2_Pl_mc_LittC2SE.wav', array([0., 0., 0., 0., 0., 0., 1., 0.], dtype=float32))\n",
      "(b'Data\\\\Archive_2\\\\Pneumonia\\\\135_2b1_Ar_mc_LittC2SE.wav', array([0., 0., 0., 0., 0., 0., 1., 0.], dtype=float32))\n",
      "(b'Data\\\\Archive_2\\\\Pneumonia\\\\226_1b1_Al_sc_Meditron_1.wav', array([0., 0., 0., 0., 0., 0., 1., 0.], dtype=float32))\n",
      "(b'Data\\\\Archive_2\\\\Bronchiolitis\\\\161_1b1_Al_sc_Meditron.wav', array([0., 0., 1., 0., 0., 0., 0., 0.], dtype=float32))\n",
      "(b'Data\\\\Archive_2\\\\Pneumonia\\\\135_2b1_Pl_mc_LittC2SE_1.wav', array([0., 0., 0., 0., 0., 0., 1., 0.], dtype=float32))\n",
      "(b'Data\\\\Archive_2\\\\URTI\\\\197_1b1_Al_sc_Meditron_1.wav', array([0., 0., 0., 0., 0., 0., 0., 1.], dtype=float32))\n",
      "(b'Data\\\\Archive_2\\\\URTI\\\\119_1b1_Ar_sc_Meditron.wav', array([0., 0., 0., 0., 0., 0., 0., 1.], dtype=float32))\n",
      "(b'Data\\\\Archive_2\\\\Bronchiectasis\\\\215_1b3_Tc_sc_Meditron_1.wav', array([0., 1., 0., 0., 0., 0., 0., 0.], dtype=float32))\n",
      "(b'Data\\\\Archive_2\\\\Healthy\\\\102_1b1_Ar_sc_Meditron_1.wav', array([0., 0., 0., 0., 1., 0., 0., 0.], dtype=float32))\n",
      "(b'Data\\\\Archive_2\\\\Bronchiectasis\\\\169_1b2_Ll_sc_Meditron.wav', array([0., 1., 0., 0., 0., 0., 0., 0.], dtype=float32))\n",
      "(b'Data\\\\Archive_2\\\\URTI\\\\105_1b1_Tc_sc_Meditron_1.wav', array([0., 0., 0., 0., 0., 0., 0., 1.], dtype=float32))\n",
      "(b'Data\\\\Archive_2\\\\Healthy\\\\214_1b1_Ar_sc_Meditron.wav', array([0., 0., 0., 0., 1., 0., 0., 0.], dtype=float32))\n",
      "(b'Data\\\\Archive_2\\\\Bronchiolitis\\\\167_1b1_Pr_sc_Meditron_1.wav', array([0., 0., 1., 0., 0., 0., 0., 0.], dtype=float32))\n",
      "(b'Data\\\\Archive_2\\\\Bronchiolitis\\\\206_1b1_Ar_sc_Meditron.wav', array([0., 0., 1., 0., 0., 0., 0., 0.], dtype=float32))\n",
      "(b'Data\\\\Archive_2\\\\Asthma\\\\103_2b2_Ar_mc_LittC2SE_1.wav', array([1., 0., 0., 0., 0., 0., 0., 0.], dtype=float32))\n",
      "(b'Data\\\\Archive_2\\\\Healthy\\\\179_1b1_Tc_sc_Meditron.wav', array([0., 0., 0., 0., 1., 0., 0., 0.], dtype=float32))\n",
      "(b'Data\\\\Archive_2\\\\URTI\\\\150_1b2_Al_sc_Meditron.wav', array([0., 0., 0., 0., 0., 0., 0., 1.], dtype=float32))\n",
      "(b'Data\\\\Archive_2\\\\Healthy\\\\159_1b1_Ll_sc_Meditron_1.wav', array([0., 0., 0., 0., 1., 0., 0., 0.], dtype=float32))\n",
      "(b'Data\\\\Archive_2\\\\Bronchiectasis\\\\169_1b1_Lr_sc_Meditron.wav', array([0., 1., 0., 0., 0., 0., 0., 0.], dtype=float32))\n",
      "(b'Data\\\\Archive_2\\\\URTI\\\\197_1b1_Tc_sc_Meditron.wav', array([0., 0., 0., 0., 0., 0., 0., 1.], dtype=float32))\n",
      "(b'Data\\\\Archive_2\\\\Bronchiectasis\\\\116_1b2_Tc_sc_Meditron_1.wav', array([0., 1., 0., 0., 0., 0., 0., 0.], dtype=float32))\n",
      "(b'Data\\\\Archive_2\\\\Pneumonia\\\\140_2b2_Tc_mc_LittC2SE_1.wav', array([0., 0., 0., 0., 0., 0., 1., 0.], dtype=float32))\n",
      "(b'Data\\\\Archive_2\\\\Healthy\\\\143_1b1_Al_sc_Meditron.wav', array([0., 0., 0., 0., 1., 0., 0., 0.], dtype=float32))\n",
      "(b'Data\\\\Archive_2\\\\Healthy\\\\159_1b1_Al_sc_Meditron.wav', array([0., 0., 0., 0., 1., 0., 0., 0.], dtype=float32))\n",
      "(b'Data\\\\Archive_2\\\\URTI\\\\137_1b1_Ll_sc_Meditron.wav', array([0., 0., 0., 0., 0., 0., 0., 1.], dtype=float32))\n",
      "(b'Data\\\\Archive_2\\\\Healthy\\\\214_1b1_Ar_sc_Meditron_1.wav', array([0., 0., 0., 0., 1., 0., 0., 0.], dtype=float32))\n",
      "(b'Data\\\\Archive_2\\\\Bronchiectasis\\\\196_1b1_Pr_sc_Meditron_1.wav', array([0., 1., 0., 0., 0., 0., 0., 0.], dtype=float32))\n",
      "(b'Data\\\\Archive_2\\\\Pneumonia\\\\135_2b2_Al_mc_LittC2SE_1.wav', array([0., 0., 0., 0., 0., 0., 1., 0.], dtype=float32))\n",
      "(b'Data\\\\Archive_2\\\\Healthy\\\\159_1b1_Pr_sc_Meditron_1.wav', array([0., 0., 0., 0., 1., 0., 0., 0.], dtype=float32))\n",
      "(b'Data\\\\Archive_2\\\\Pneumonia\\\\140_2b3_Ll_mc_LittC2SE_1.wav', array([0., 0., 0., 0., 0., 0., 1., 0.], dtype=float32))\n",
      "(b'Data\\\\Archive_2\\\\URTI\\\\188_1b1_Tc_sc_Meditron_1.wav', array([0., 0., 0., 0., 0., 0., 0., 1.], dtype=float32))\n",
      "(b'Data\\\\Archive_2\\\\Healthy\\\\143_1b1_Al_sc_Meditron_1.wav', array([0., 0., 0., 0., 1., 0., 0., 0.], dtype=float32))\n",
      "(b'Data\\\\Archive_2\\\\Healthy\\\\123_1b1_Al_sc_Meditron.wav', array([0., 0., 0., 0., 1., 0., 0., 0.], dtype=float32))\n",
      "(b'Data\\\\Archive_2\\\\Bronchiolitis\\\\206_1b1_Pl_sc_Meditron.wav', array([0., 0., 1., 0., 0., 0., 0., 0.], dtype=float32))\n",
      "(b'Data\\\\Archive_2\\\\Bronchiolitis\\\\149_1b1_Al_sc_Meditron.wav', array([0., 0., 1., 0., 0., 0., 0., 0.], dtype=float32))\n",
      "(b'Data\\\\Archive_2\\\\Healthy\\\\225_1b1_Pl_sc_Meditron_1.wav', array([0., 0., 0., 0., 1., 0., 0., 0.], dtype=float32))\n",
      "(b'Data\\\\Archive_2\\\\Healthy\\\\183_1b1_Pl_sc_Meditron.wav', array([0., 0., 0., 0., 1., 0., 0., 0.], dtype=float32))\n",
      "(b'Data\\\\Archive_2\\\\Bronchiectasis\\\\116_1b2_Pl_sc_Meditron.wav', array([0., 1., 0., 0., 0., 0., 0., 0.], dtype=float32))\n",
      "(b'Data\\\\Archive_2\\\\Healthy\\\\144_1b1_Tc_sc_Meditron.wav', array([0., 0., 0., 0., 1., 0., 0., 0.], dtype=float32))\n",
      "(b'Data\\\\Archive_2\\\\Pneumonia\\\\219_2b2_Ar_mc_LittC2SE.wav', array([0., 0., 0., 0., 0., 0., 1., 0.], dtype=float32))\n",
      "(b'Data\\\\Archive_2\\\\URTI\\\\131_1b1_Al_sc_Meditron_1.wav', array([0., 0., 0., 0., 0., 0., 0., 1.], dtype=float32))\n",
      "(b'Data\\\\Archive_2\\\\Pneumonia\\\\122_2b3_Ar_mc_LittC2SE.wav', array([0., 0., 0., 0., 0., 0., 1., 0.], dtype=float32))\n",
      "(b'Data\\\\Archive_2\\\\Healthy\\\\217_1b1_Tc_sc_Meditron.wav', array([0., 0., 0., 0., 1., 0., 0., 0.], dtype=float32))\n",
      "(b'Data\\\\Archive_2\\\\Pneumonia\\\\135_2b3_Al_mc_LittC2SE_1.wav', array([0., 0., 0., 0., 0., 0., 1., 0.], dtype=float32))\n",
      "(b'Data\\\\Archive_2\\\\Pneumonia\\\\219_2b1_Ar_mc_LittC2SE_1.wav', array([0., 0., 0., 0., 0., 0., 1., 0.], dtype=float32))\n",
      "(b'Data\\\\Archive_2\\\\Pneumonia\\\\226_1b1_Ll_sc_Meditron.wav', array([0., 0., 0., 0., 0., 0., 1., 0.], dtype=float32))\n",
      "(b'Data\\\\Archive_2\\\\Healthy\\\\121_1b1_Tc_sc_Meditron_1.wav', array([0., 0., 0., 0., 1., 0., 0., 0.], dtype=float32))\n",
      "(b'Data\\\\Archive_2\\\\Pneumonia\\\\140_2b3_Tc_mc_LittC2SE_1.wav', array([0., 0., 0., 0., 0., 0., 1., 0.], dtype=float32))\n",
      "(b'Data\\\\Archive_2\\\\Bronchiectasis\\\\169_1b2_Ll_sc_Meditron_1.wav', array([0., 1., 0., 0., 0., 0., 0., 0.], dtype=float32))\n",
      "(b'Data\\\\Archive_2\\\\Pneumonia\\\\135_2b1_Ar_mc_LittC2SE_1.wav', array([0., 0., 0., 0., 0., 0., 1., 0.], dtype=float32))\n",
      "(b'Data\\\\Archive_2\\\\Bronchiolitis\\\\167_1b1_Al_sc_Meditron.wav', array([0., 0., 1., 0., 0., 0., 0., 0.], dtype=float32))\n",
      "(b'Data\\\\Archive_2\\\\URTI\\\\188_1b1_Al_sc_Meditron.wav', array([0., 0., 0., 0., 0., 0., 0., 1.], dtype=float32))\n",
      "(b'Data\\\\Archive_2\\\\Pneumonia\\\\135_2b3_Tc_mc_LittC2SE_1.wav', array([0., 0., 0., 0., 0., 0., 1., 0.], dtype=float32))\n",
      "(b'Data\\\\Archive_2\\\\URTI\\\\210_1b1_Ar_sc_Meditron_1.wav', array([0., 0., 0., 0., 0., 0., 0., 1.], dtype=float32))\n",
      "(b'Data\\\\Archive_2\\\\Healthy\\\\127_1b1_Ar_sc_Meditron_1.wav', array([0., 0., 0., 0., 1., 0., 0., 0.], dtype=float32))\n",
      "(b'Data\\\\Archive_2\\\\Pneumonia\\\\122_2b3_Tc_mc_LittC2SE.wav', array([0., 0., 0., 0., 0., 0., 1., 0.], dtype=float32))\n",
      "(b'Data\\\\Archive_2\\\\Bronchiectasis\\\\196_1b1_Pr_sc_Meditron.wav', array([0., 1., 0., 0., 0., 0., 0., 0.], dtype=float32))\n",
      "(b'Data\\\\Archive_2\\\\LRTI\\\\115_1b1_Ar_sc_Meditron.wav', array([0., 0., 0., 0., 0., 1., 0., 0.], dtype=float32))\n",
      "(b'Data\\\\Archive_2\\\\Healthy\\\\183_1b1_Pl_sc_Meditron_1.wav', array([0., 0., 0., 0., 1., 0., 0., 0.], dtype=float32))\n",
      "(b'Data\\\\Archive_2\\\\URTI\\\\165_1b1_Pr_sc_Meditron_1.wav', array([0., 0., 0., 0., 0., 0., 0., 1.], dtype=float32))\n",
      "(b'Data\\\\Archive_2\\\\Pneumonia\\\\135_2b2_Al_mc_LittC2SE.wav', array([0., 0., 0., 0., 0., 0., 1., 0.], dtype=float32))\n",
      "(b'Data\\\\Archive_2\\\\Healthy\\\\194_1b1_Pr_sc_Meditron_1.wav', array([0., 0., 0., 0., 1., 0., 0., 0.], dtype=float32))\n",
      "(b'Data\\\\Archive_2\\\\URTI\\\\129_1b1_Ar_sc_Meditron_1.wav', array([0., 0., 0., 0., 0., 0., 0., 1.], dtype=float32))\n",
      "(b'Data\\\\Archive_2\\\\Healthy\\\\159_1b1_Ar_sc_Meditron.wav', array([0., 0., 0., 0., 1., 0., 0., 0.], dtype=float32))\n",
      "(b'Data\\\\Archive_2\\\\Healthy\\\\126_1b1_Al_sc_Meditron.wav', array([0., 0., 0., 0., 1., 0., 0., 0.], dtype=float32))\n",
      "(b'Data\\\\Archive_2\\\\Healthy\\\\159_1b1_Ar_sc_Meditron_1.wav', array([0., 0., 0., 0., 1., 0., 0., 0.], dtype=float32))\n",
      "(b'Data\\\\Archive_2\\\\Healthy\\\\126_1b1_Al_sc_Meditron_1.wav', array([0., 0., 0., 0., 1., 0., 0., 0.], dtype=float32))\n",
      "(b'Data\\\\Archive_2\\\\Pneumonia\\\\135_2b3_Pr_mc_LittC2SE_1.wav', array([0., 0., 0., 0., 0., 0., 1., 0.], dtype=float32))\n",
      "(b'Data\\\\Archive_2\\\\URTI\\\\197_1b1_Al_sc_Meditron.wav', array([0., 0., 0., 0., 0., 0., 0., 1.], dtype=float32))\n",
      "(b'Data\\\\Archive_2\\\\Pneumonia\\\\226_1b1_Pl_sc_LittC2SE_1.wav', array([0., 0., 0., 0., 0., 0., 1., 0.], dtype=float32))\n",
      "(b'Data\\\\Archive_2\\\\URTI\\\\165_1b1_Pl_sc_Meditron.wav', array([0., 0., 0., 0., 0., 0., 0., 1.], dtype=float32))\n",
      "(b'Data\\\\Archive_2\\\\Healthy\\\\123_1b1_Al_sc_Meditron_1.wav', array([0., 0., 0., 0., 1., 0., 0., 0.], dtype=float32))\n",
      "(b'Data\\\\Archive_2\\\\Bronchiolitis\\\\149_1b1_Pl_sc_Meditron_1.wav', array([0., 0., 1., 0., 0., 0., 0., 0.], dtype=float32))\n",
      "(b'Data\\\\Archive_2\\\\Bronchiolitis\\\\149_1b1_Lr_sc_Meditron.wav', array([0., 0., 1., 0., 0., 0., 0., 0.], dtype=float32))\n",
      "(b'Data\\\\Archive_2\\\\Healthy\\\\202_1b1_Ar_sc_Meditron.wav', array([0., 0., 0., 0., 1., 0., 0., 0.], dtype=float32))\n",
      "(b'Data\\\\Archive_2\\\\Pneumonia\\\\122_2b2_Tc_mc_LittC2SE.wav', array([0., 0., 0., 0., 0., 0., 1., 0.], dtype=float32))\n",
      "(b'Data\\\\Archive_2\\\\URTI\\\\165_1b1_Ar_sc_Meditron.wav', array([0., 0., 0., 0., 0., 0., 0., 1.], dtype=float32))\n",
      "(b'Data\\\\Archive_2\\\\Healthy\\\\144_1b1_Al_sc_Meditron_1.wav', array([0., 0., 0., 0., 1., 0., 0., 0.], dtype=float32))\n",
      "(b'Data\\\\Archive_2\\\\URTI\\\\165_1b1_Pr_sc_Meditron.wav', array([0., 0., 0., 0., 0., 0., 0., 1.], dtype=float32))\n",
      "(b'Data\\\\Archive_2\\\\Healthy\\\\171_1b1_Al_sc_Meditron_1.wav', array([0., 0., 0., 0., 1., 0., 0., 0.], dtype=float32))\n",
      "(b'Data\\\\Archive_2\\\\Healthy\\\\184_1b1_Ar_sc_Meditron.wav', array([0., 0., 0., 0., 1., 0., 0., 0.], dtype=float32))\n",
      "(b'Data\\\\Archive_2\\\\Bronchiectasis\\\\201_1b1_Al_sc_Meditron_1.wav', array([0., 1., 0., 0., 0., 0., 0., 0.], dtype=float32))\n",
      "(b'Data\\\\Archive_2\\\\Pneumonia\\\\140_2b2_Ll_mc_LittC2SE.wav', array([0., 0., 0., 0., 0., 0., 1., 0.], dtype=float32))\n",
      "(b'Data\\\\Archive_2\\\\Bronchiectasis\\\\116_1b2_Pl_sc_Meditron_1.wav', array([0., 1., 0., 0., 0., 0., 0., 0.], dtype=float32))\n",
      "(b'Data\\\\Archive_2\\\\LRTI\\\\115_1b1_Ar_sc_Meditron_1.wav', array([0., 0., 0., 0., 0., 1., 0., 0.], dtype=float32))\n",
      "(b'Data\\\\Archive_2\\\\Healthy\\\\171_1b1_Al_sc_Meditron.wav', array([0., 0., 0., 0., 1., 0., 0., 0.], dtype=float32))\n",
      "(b'Data\\\\Archive_2\\\\URTI\\\\101_1b1_Pr_sc_Meditron.wav', array([0., 0., 0., 0., 0., 0., 0., 1.], dtype=float32))\n",
      "(b'Data\\\\Archive_2\\\\Bronchiolitis\\\\216_1b1_Al_sc_Meditron_1.wav', array([0., 0., 1., 0., 0., 0., 0., 0.], dtype=float32))\n",
      "(b'Data\\\\Archive_2\\\\Pneumonia\\\\191_2b2_Tc_mc_LittC2SE_1.wav', array([0., 0., 0., 0., 0., 0., 1., 0.], dtype=float32))\n",
      "(b'Data\\\\Archive_2\\\\Bronchiectasis\\\\169_1b1_Lr_sc_Meditron_1.wav', array([0., 1., 0., 0., 0., 0., 0., 0.], dtype=float32))\n",
      "(b'Data\\\\Archive_2\\\\Bronchiolitis\\\\216_1b1_Al_sc_Meditron.wav', array([0., 0., 1., 0., 0., 0., 0., 0.], dtype=float32))\n",
      "(b'Data\\\\Archive_2\\\\Pneumonia\\\\122_2b2_Ar_mc_LittC2SE_1.wav', array([0., 0., 0., 0., 0., 0., 1., 0.], dtype=float32))\n",
      "(b'Data\\\\Archive_2\\\\LRTI\\\\108_1b1_Al_sc_Meditron_1.wav', array([0., 0., 0., 0., 0., 1., 0., 0.], dtype=float32))\n",
      "(b'Data\\\\Archive_2\\\\Bronchiolitis\\\\216_1b1_Pl_sc_Meditron_1.wav', array([0., 0., 1., 0., 0., 0., 0., 0.], dtype=float32))\n",
      "(b'Data\\\\Archive_2\\\\URTI\\\\188_1b1_Pl_sc_Meditron.wav', array([0., 0., 0., 0., 0., 0., 0., 1.], dtype=float32))\n",
      "(b'Data\\\\Archive_2\\\\Bronchiectasis\\\\215_1b3_Tc_sc_Meditron.wav', array([0., 1., 0., 0., 0., 0., 0., 0.], dtype=float32))\n",
      "(b'Data\\\\Archive_2\\\\Healthy\\\\121_1b1_Tc_sc_Meditron.wav', array([0., 0., 0., 0., 1., 0., 0., 0.], dtype=float32))\n",
      "(b'Data\\\\Archive_2\\\\URTI\\\\210_1b1_Ar_sc_Meditron.wav', array([0., 0., 0., 0., 0., 0., 0., 1.], dtype=float32))\n",
      "(b'Data\\\\Archive_2\\\\Pneumonia\\\\122_2b1_Tc_mc_LittC2SE.wav', array([0., 0., 0., 0., 0., 0., 1., 0.], dtype=float32))\n",
      "(b'Data\\\\Archive_2\\\\URTI\\\\210_1b1_Al_sc_Meditron_1.wav', array([0., 0., 0., 0., 0., 0., 0., 1.], dtype=float32))\n",
      "(b'Data\\\\Archive_2\\\\Pneumonia\\\\135_2b3_Pl_mc_LittC2SE.wav', array([0., 0., 0., 0., 0., 0., 1., 0.], dtype=float32))\n",
      "(b'Data\\\\Archive_2\\\\Healthy\\\\209_1b1_Tc_sc_Meditron.wav', array([0., 0., 0., 0., 1., 0., 0., 0.], dtype=float32))\n",
      "(b'Data\\\\Archive_2\\\\Pneumonia\\\\122_2b2_Ar_mc_LittC2SE.wav', array([0., 0., 0., 0., 0., 0., 1., 0.], dtype=float32))\n",
      "(b'Data\\\\Archive_2\\\\Healthy\\\\225_1b1_Pl_sc_Meditron.wav', array([0., 0., 0., 0., 1., 0., 0., 0.], dtype=float32))\n",
      "(b'Data\\\\Archive_2\\\\Bronchiectasis\\\\201_1b1_Ar_sc_Meditron.wav', array([0., 1., 0., 0., 0., 0., 0., 0.], dtype=float32))\n",
      "(b'Data\\\\Archive_2\\\\Bronchiolitis\\\\206_1b1_Ar_sc_Meditron_1.wav', array([0., 0., 1., 0., 0., 0., 0., 0.], dtype=float32))\n",
      "(b'Data\\\\Archive_2\\\\Healthy\\\\159_1b1_Pr_sc_Meditron.wav', array([0., 0., 0., 0., 1., 0., 0., 0.], dtype=float32))\n",
      "(b'Data\\\\Archive_2\\\\Pneumonia\\\\122_2b1_Ar_mc_LittC2SE.wav', array([0., 0., 0., 0., 0., 0., 1., 0.], dtype=float32))\n",
      "(b'Data\\\\Archive_2\\\\Pneumonia\\\\135_2b1_Tc_mc_LittC2SE_1.wav', array([0., 0., 0., 0., 0., 0., 1., 0.], dtype=float32))\n",
      "(b'Data\\\\Archive_2\\\\URTI\\\\164_1b1_Ll_sc_Meditron.wav', array([0., 0., 0., 0., 0., 0., 0., 1.], dtype=float32))\n",
      "(b'Data\\\\Archive_2\\\\Pneumonia\\\\135_2b3_Pr_mc_LittC2SE.wav', array([0., 0., 0., 0., 0., 0., 1., 0.], dtype=float32))\n",
      "(b'Data\\\\Archive_2\\\\Pneumonia\\\\122_2b3_Ar_mc_LittC2SE_1.wav', array([0., 0., 0., 0., 0., 0., 1., 0.], dtype=float32))\n",
      "(b'Data\\\\Archive_2\\\\Healthy\\\\125_1b1_Tc_sc_Meditron_1.wav', array([0., 0., 0., 0., 1., 0., 0., 0.], dtype=float32))\n",
      "(b'Data\\\\Archive_2\\\\Healthy\\\\136_1b1_Ar_sc_Meditron.wav', array([0., 0., 0., 0., 1., 0., 0., 0.], dtype=float32))\n",
      "(b'Data\\\\Archive_2\\\\Bronchiolitis\\\\149_1b1_Pl_sc_Meditron.wav', array([0., 0., 1., 0., 0., 0., 0., 0.], dtype=float32))\n",
      "(b'Data\\\\Archive_2\\\\URTI\\\\188_1b1_Ar_sc_Meditron.wav', array([0., 0., 0., 0., 0., 0., 0., 1.], dtype=float32))\n",
      "(b'Data\\\\Archive_2\\\\Pneumonia\\\\135_2b3_Ar_mc_LittC2SE.wav', array([0., 0., 0., 0., 0., 0., 1., 0.], dtype=float32))\n",
      "(b'Data\\\\Archive_2\\\\Healthy\\\\144_1b1_Al_sc_Meditron.wav', array([0., 0., 0., 0., 1., 0., 0., 0.], dtype=float32))\n",
      "(b'Data\\\\Archive_2\\\\Healthy\\\\194_1b1_Lr_sc_Meditron_1.wav', array([0., 0., 0., 0., 1., 0., 0., 0.], dtype=float32))\n",
      "(b'Data\\\\Archive_2\\\\Pneumonia\\\\122_2b3_Tc_mc_LittC2SE_1.wav', array([0., 0., 0., 0., 0., 0., 1., 0.], dtype=float32))\n",
      "(b'Data\\\\Archive_2\\\\Healthy\\\\183_1b1_Tc_sc_Meditron.wav', array([0., 0., 0., 0., 1., 0., 0., 0.], dtype=float32))\n",
      "(b'Data\\\\Archive_2\\\\Pneumonia\\\\135_2b2_Tc_mc_LittC2SE_1.wav', array([0., 0., 0., 0., 0., 0., 1., 0.], dtype=float32))\n",
      "(b'Data\\\\Archive_2\\\\URTI\\\\101_1b1_Pr_sc_Meditron_1.wav', array([0., 0., 0., 0., 0., 0., 0., 1.], dtype=float32))\n",
      "(b'Data\\\\Archive_2\\\\URTI\\\\197_1b1_Tc_sc_Meditron_1.wav', array([0., 0., 0., 0., 0., 0., 0., 1.], dtype=float32))\n",
      "(b'Data\\\\Archive_2\\\\URTI\\\\137_1b1_Ar_sc_Meditron.wav', array([0., 0., 0., 0., 0., 0., 0., 1.], dtype=float32))\n",
      "(b'Data\\\\Archive_2\\\\Bronchiolitis\\\\206_1b1_Pl_sc_Meditron_1.wav', array([0., 0., 1., 0., 0., 0., 0., 0.], dtype=float32))\n",
      "(b'Data\\\\Archive_2\\\\Pneumonia\\\\219_2b3_Tc_mc_LittC2SE.wav', array([0., 0., 0., 0., 0., 0., 1., 0.], dtype=float32))\n",
      "(b'Data\\\\Archive_2\\\\Pneumonia\\\\135_2b1_Al_mc_LittC2SE_1.wav', array([0., 0., 0., 0., 0., 0., 1., 0.], dtype=float32))\n",
      "(b'Data\\\\Archive_2\\\\Pneumonia\\\\122_2b3_Al_mc_LittC2SE.wav', array([0., 0., 0., 0., 0., 0., 1., 0.], dtype=float32))\n",
      "(b'Data\\\\Archive_2\\\\Bronchiectasis\\\\201_1b1_Al_sc_Meditron.wav', array([0., 1., 0., 0., 0., 0., 0., 0.], dtype=float32))\n",
      "(b'Data\\\\Archive_2\\\\URTI\\\\165_1b1_Pl_sc_Meditron_1.wav', array([0., 0., 0., 0., 0., 0., 0., 1.], dtype=float32))\n",
      "(b'Data\\\\Archive_2\\\\URTI\\\\190_1b1_Tc_sc_Meditron_1.wav', array([0., 0., 0., 0., 0., 0., 0., 1.], dtype=float32))\n",
      "(b'Data\\\\Archive_2\\\\Pneumonia\\\\135_2b1_Pl_mc_LittC2SE.wav', array([0., 0., 0., 0., 0., 0., 1., 0.], dtype=float32))\n",
      "(b'Data\\\\Archive_2\\\\Pneumonia\\\\226_1b1_Pl_sc_LittC2SE.wav', array([0., 0., 0., 0., 0., 0., 1., 0.], dtype=float32))\n",
      "(b'Data\\\\Archive_2\\\\Healthy\\\\136_1b1_Ar_sc_Meditron_1.wav', array([0., 0., 0., 0., 1., 0., 0., 0.], dtype=float32))\n",
      "(b'Data\\\\Archive_2\\\\Pneumonia\\\\219_2b3_Tc_mc_LittC2SE_1.wav', array([0., 0., 0., 0., 0., 0., 1., 0.], dtype=float32))\n",
      "(b'Data\\\\Archive_2\\\\Healthy\\\\208_1b1_Ll_sc_Meditron_1.wav', array([0., 0., 0., 0., 1., 0., 0., 0.], dtype=float32))\n",
      "(b'Data\\\\Archive_2\\\\Bronchiectasis\\\\201_1b2_Al_sc_Meditron.wav', array([0., 1., 0., 0., 0., 0., 0., 0.], dtype=float32))\n",
      "(b'Data\\\\Archive_2\\\\Healthy\\\\194_1b1_Pr_sc_Meditron.wav', array([0., 0., 0., 0., 1., 0., 0., 0.], dtype=float32))\n",
      "(b'Data\\\\Archive_2\\\\URTI\\\\164_1b1_Ll_sc_Meditron_1.wav', array([0., 0., 0., 0., 0., 0., 0., 1.], dtype=float32))\n",
      "(b'Data\\\\Archive_2\\\\URTI\\\\150_1b2_Al_sc_Meditron_1.wav', array([0., 0., 0., 0., 0., 0., 0., 1.], dtype=float32))\n",
      "(b'Data\\\\Archive_2\\\\Pneumonia\\\\140_2b3_Ll_mc_LittC2SE.wav', array([0., 0., 0., 0., 0., 0., 1., 0.], dtype=float32))\n",
      "(b'Data\\\\Archive_2\\\\Healthy\\\\159_1b1_Al_sc_Meditron_1.wav', array([0., 0., 0., 0., 1., 0., 0., 0.], dtype=float32))\n",
      "(b'Data\\\\Archive_2\\\\Healthy\\\\183_1b1_Tc_sc_Meditron_1.wav', array([0., 0., 0., 0., 1., 0., 0., 0.], dtype=float32))\n",
      "(b'Data\\\\Archive_2\\\\Healthy\\\\194_1b1_Lr_sc_Meditron.wav', array([0., 0., 0., 0., 1., 0., 0., 0.], dtype=float32))\n",
      "(b'Data\\\\Archive_2\\\\Healthy\\\\209_1b1_Tc_sc_Meditron_1.wav', array([0., 0., 0., 0., 1., 0., 0., 0.], dtype=float32))\n",
      "(b'Data\\\\Archive_2\\\\Bronchiectasis\\\\215_1b2_Ar_sc_Meditron_1.wav', array([0., 1., 0., 0., 0., 0., 0., 0.], dtype=float32))\n",
      "(b'Data\\\\Archive_2\\\\Pneumonia\\\\219_2b1_Ar_mc_LittC2SE.wav', array([0., 0., 0., 0., 0., 0., 1., 0.], dtype=float32))\n",
      "(b'Data\\\\Archive_2\\\\Pneumonia\\\\140_2b3_Tc_mc_LittC2SE.wav', array([0., 0., 0., 0., 0., 0., 1., 0.], dtype=float32))\n",
      "(b'Data\\\\Archive_2\\\\Healthy\\\\224_1b1_Tc_sc_Meditron_1.wav', array([0., 0., 0., 0., 1., 0., 0., 0.], dtype=float32))\n",
      "(b'Data\\\\Archive_2\\\\Healthy\\\\224_1b1_Tc_sc_Meditron.wav', array([0., 0., 0., 0., 1., 0., 0., 0.], dtype=float32))\n",
      "(b'Data\\\\Archive_2\\\\Bronchiectasis\\\\215_1b2_Ar_sc_Meditron.wav', array([0., 1., 0., 0., 0., 0., 0., 0.], dtype=float32))\n",
      "(b'Data\\\\Archive_2\\\\URTI\\\\165_1b1_Ar_sc_Meditron_1.wav', array([0., 0., 0., 0., 0., 0., 0., 1.], dtype=float32))\n",
      "(b'Data\\\\Archive_2\\\\URTI\\\\188_1b1_Ar_sc_Meditron_1.wav', array([0., 0., 0., 0., 0., 0., 0., 1.], dtype=float32))\n",
      "(b'Data\\\\Archive_2\\\\Pneumonia\\\\191_2b1_Pr_mc_LittC2SE.wav', array([0., 0., 0., 0., 0., 0., 1., 0.], dtype=float32))\n",
      "(b'Data\\\\Archive_2\\\\Bronchiolitis\\\\161_1b1_Pl_sc_Meditron.wav', array([0., 0., 1., 0., 0., 0., 0., 0.], dtype=float32))\n",
      "(b'Data\\\\Archive_2\\\\Bronchiolitis\\\\206_1b1_Lr_sc_Meditron_1.wav', array([0., 0., 1., 0., 0., 0., 0., 0.], dtype=float32))\n",
      "(b'Data\\\\Archive_2\\\\Pneumonia\\\\135_2b1_Tc_mc_LittC2SE.wav', array([0., 0., 0., 0., 0., 0., 1., 0.], dtype=float32))\n",
      "(b'Data\\\\Archive_2\\\\Bronchiectasis\\\\201_1b3_Al_sc_Meditron_1.wav', array([0., 1., 0., 0., 0., 0., 0., 0.], dtype=float32))\n",
      "(b'Data\\\\Archive_2\\\\Bronchiectasis\\\\201_1b3_Ar_sc_Meditron.wav', array([0., 1., 0., 0., 0., 0., 0., 0.], dtype=float32))\n",
      "(b'Data\\\\Archive_2\\\\Bronchiectasis\\\\111_1b3_Tc_sc_Meditron.wav', array([0., 1., 0., 0., 0., 0., 0., 0.], dtype=float32))\n",
      "(b'Data\\\\Archive_2\\\\Pneumonia\\\\191_2b2_Tc_mc_LittC2SE.wav', array([0., 0., 0., 0., 0., 0., 1., 0.], dtype=float32))\n",
      "(b'Data\\\\Archive_2\\\\Healthy\\\\152_1b1_Al_sc_Meditron_1.wav', array([0., 0., 0., 0., 1., 0., 0., 0.], dtype=float32))\n",
      "(b'Data\\\\Archive_2\\\\URTI\\\\188_1b1_Al_sc_Meditron_1.wav', array([0., 0., 0., 0., 0., 0., 0., 1.], dtype=float32))\n",
      "(b'Data\\\\Archive_2\\\\Pneumonia\\\\191_2b1_Pl_mc_LittC2SE_1.wav', array([0., 0., 0., 0., 0., 0., 1., 0.], dtype=float32))\n",
      "(b'Data\\\\Archive_2\\\\Pneumonia\\\\219_2b2_Tc_mc_LittC2SE.wav', array([0., 0., 0., 0., 0., 0., 1., 0.], dtype=float32))\n",
      "(b'Data\\\\Archive_2\\\\Healthy\\\\127_1b1_Ar_sc_Meditron.wav', array([0., 0., 0., 0., 1., 0., 0., 0.], dtype=float32))\n",
      "(b'Data\\\\Archive_2\\\\Pneumonia\\\\135_2b3_Al_mc_LittC2SE.wav', array([0., 0., 0., 0., 0., 0., 1., 0.], dtype=float32))\n",
      "(b'Data\\\\Archive_2\\\\Pneumonia\\\\122_2b2_Al_mc_LittC2SE.wav', array([0., 0., 0., 0., 0., 0., 1., 0.], dtype=float32))\n",
      "(b'Data\\\\Archive_2\\\\Pneumonia\\\\219_2b1_Tc_mc_LittC2SE.wav', array([0., 0., 0., 0., 0., 0., 1., 0.], dtype=float32))\n",
      "(b'Data\\\\Archive_2\\\\Asthma\\\\103_2b2_Ar_mc_LittC2SE.wav', array([1., 0., 0., 0., 0., 0., 0., 0.], dtype=float32))\n",
      "(b'Data\\\\Archive_2\\\\Pneumonia\\\\219_2b2_Ar_mc_LittC2SE_1.wav', array([0., 0., 0., 0., 0., 0., 1., 0.], dtype=float32))\n",
      "(b'Data\\\\Archive_2\\\\Healthy\\\\217_1b1_Tc_sc_Meditron_1.wav', array([0., 0., 0., 0., 1., 0., 0., 0.], dtype=float32))\n",
      "(b'Data\\\\Archive_2\\\\Healthy\\\\179_1b1_Al_sc_Meditron.wav', array([0., 0., 0., 0., 1., 0., 0., 0.], dtype=float32))\n",
      "(b'Data\\\\Archive_2\\\\Pneumonia\\\\219_2b2_Tc_mc_LittC2SE_1.wav', array([0., 0., 0., 0., 0., 0., 1., 0.], dtype=float32))\n",
      "(b'Data\\\\Archive_2\\\\Bronchiolitis\\\\161_1b1_Al_sc_Meditron_1.wav', array([0., 0., 1., 0., 0., 0., 0., 0.], dtype=float32))\n",
      "(b'Data\\\\Archive_2\\\\Pneumonia\\\\135_2b2_Pl_mc_LittC2SE_1.wav', array([0., 0., 0., 0., 0., 0., 1., 0.], dtype=float32))\n",
      "(b'Data\\\\Archive_2\\\\Bronchiectasis\\\\201_1b3_Al_sc_Meditron.wav', array([0., 1., 0., 0., 0., 0., 0., 0.], dtype=float32))\n",
      "(b'Data\\\\Archive_2\\\\Healthy\\\\153_1b1_Al_sc_Meditron_1.wav', array([0., 0., 0., 0., 1., 0., 0., 0.], dtype=float32))\n",
      "(b'Data\\\\Archive_2\\\\Pneumonia\\\\122_2b2_Tc_mc_LittC2SE_1.wav', array([0., 0., 0., 0., 0., 0., 1., 0.], dtype=float32))\n",
      "(b'Data\\\\Archive_2\\\\Bronchiolitis\\\\216_1b1_Pl_sc_Meditron.wav', array([0., 0., 1., 0., 0., 0., 0., 0.], dtype=float32))\n",
      "(b'Data\\\\Archive_2\\\\Bronchiolitis\\\\149_1b1_Lr_sc_Meditron_1.wav', array([0., 0., 1., 0., 0., 0., 0., 0.], dtype=float32))\n",
      "(b'Data\\\\Archive_2\\\\LRTI\\\\108_1b1_Al_sc_Meditron.wav', array([0., 0., 0., 0., 0., 1., 0., 0.], dtype=float32))\n",
      "(b'Data\\\\Archive_2\\\\Healthy\\\\224_1b2_Al_sc_Meditron.wav', array([0., 0., 0., 0., 1., 0., 0., 0.], dtype=float32))\n",
      "(b'Data\\\\Archive_2\\\\Bronchiectasis\\\\111_1b2_Tc_sc_Meditron.wav', array([0., 1., 0., 0., 0., 0., 0., 0.], dtype=float32))\n",
      "(b'Data\\\\Archive_2\\\\Pneumonia\\\\122_2b2_Al_mc_LittC2SE_1.wav', array([0., 0., 0., 0., 0., 0., 1., 0.], dtype=float32))\n",
      "(b'Data\\\\Archive_2\\\\URTI\\\\137_1b1_Ll_sc_Meditron_1.wav', array([0., 0., 0., 0., 0., 0., 0., 1.], dtype=float32))\n",
      "(b'Data\\\\Archive_2\\\\URTI\\\\101_1b1_Al_sc_Meditron_1.wav', array([0., 0., 0., 0., 0., 0., 0., 1.], dtype=float32))\n",
      "(b'Data\\\\Archive_2\\\\Pneumonia\\\\226_1b1_Ll_sc_Meditron_1.wav', array([0., 0., 0., 0., 0., 0., 1., 0.], dtype=float32))\n"
     ]
    }
   ],
   "source": [
    "data_iterator = all_data.shuffle(500).as_numpy_iterator()\n",
    "for item in all_data:\n",
    "    print(data_iterator.next())"
   ],
   "metadata": {
    "collapsed": false,
    "ExecuteTime": {
     "start_time": "2023-04-25T10:30:30.442817Z",
     "end_time": "2023-04-25T10:30:30.601497Z"
    }
   }
  },
  {
   "cell_type": "markdown",
   "source": [
    "Preprocessing and Function Building"
   ],
   "metadata": {
    "collapsed": false
   }
  },
  {
   "cell_type": "code",
   "execution_count": 16,
   "outputs": [],
   "source": [
    "# os.listdir(COPD)"
   ],
   "metadata": {
    "collapsed": false,
    "ExecuteTime": {
     "start_time": "2023-04-25T10:30:34.196591Z",
     "end_time": "2023-04-25T10:30:34.207594Z"
    }
   }
  },
  {
   "cell_type": "code",
   "execution_count": 17,
   "outputs": [],
   "source": [
    "def preprocess(file_path, label):\n",
    "    wav = load_wav(file_path)\n",
    "    wav = wav[:320000]\n",
    "    zero_padding = tf.zeros([320000] - tf.shape(wav), dtype=tf.float32)\n",
    "    wav = tf.concat([zero_padding, wav],0)\n",
    "    spectrogram = tf.signal.stft(wav, frame_length=256, frame_step=128)\n",
    "    spectrogram = tf.abs(spectrogram)\n",
    "    spectrogram = tf.expand_dims(spectrogram, axis=2)\n",
    "    return spectrogram, label"
   ],
   "metadata": {
    "collapsed": false,
    "ExecuteTime": {
     "start_time": "2023-04-25T10:30:35.646113Z",
     "end_time": "2023-04-25T10:30:35.667940Z"
    }
   }
  },
  {
   "cell_type": "code",
   "execution_count": 18,
   "outputs": [],
   "source": [
    "wav = None\n",
    "# wav = load_wav(Asthma_File) # 320000\n",
    "# wav = load_wav(Bronchiectasis_File) # 320000\n",
    "# wav = load_wav(Bronchiolitis_File) # 320000\n",
    "# wav = load_wav(COPD_File) # 253696\n",
    "# wav = load_wav(Healthy_File) # 320000\n",
    "# wav = load_wav(LRTI_File) # 320000\n",
    "# wav = load_wav(Pneumonia_File) # 320000\n",
    "# wav = load_wav(URTI_File) # 320000\n",
    "wav"
   ],
   "metadata": {
    "collapsed": false,
    "ExecuteTime": {
     "start_time": "2023-04-25T10:30:37.086667Z",
     "end_time": "2023-04-25T10:30:37.104729Z"
    }
   }
  },
  {
   "cell_type": "code",
   "execution_count": 19,
   "outputs": [],
   "source": [
    "filepath, label = Healthy_Samples.shuffle(buffer_size=10000).as_numpy_iterator().next()"
   ],
   "metadata": {
    "collapsed": false,
    "ExecuteTime": {
     "start_time": "2023-04-25T10:30:38.804646Z",
     "end_time": "2023-04-25T10:30:38.823377Z"
    }
   }
  },
  {
   "cell_type": "code",
   "execution_count": 20,
   "outputs": [],
   "source": [
    "# type(label)"
   ],
   "metadata": {
    "collapsed": false,
    "ExecuteTime": {
     "start_time": "2023-04-25T10:30:40.413574Z",
     "end_time": "2023-04-25T10:30:40.429854Z"
    }
   }
  },
  {
   "cell_type": "code",
   "execution_count": 21,
   "outputs": [],
   "source": [
    "spectrogram, label = preprocess(filepath, label)"
   ],
   "metadata": {
    "collapsed": false,
    "ExecuteTime": {
     "start_time": "2023-04-25T10:30:41.076667Z",
     "end_time": "2023-04-25T10:30:41.338481Z"
    }
   }
  },
  {
   "cell_type": "code",
   "execution_count": 22,
   "outputs": [
    {
     "data": {
      "text/plain": "<tf.Tensor: shape=(2499, 129, 1), dtype=float32, numpy=\narray([[[1.4179241e+01],\n        [1.1322944e+01],\n        [2.8321812e+00],\n        ...,\n        [5.6360601e-03],\n        [2.1235265e-03],\n        [1.2531281e-03]],\n\n       [[8.8020401e+00],\n        [8.0692415e+00],\n        [1.8531149e+01],\n        ...,\n        [1.7766317e-02],\n        [5.7773045e-03],\n        [1.5144348e-03]],\n\n       [[3.4250453e+00],\n        [9.2617388e+00],\n        [1.7637779e+01],\n        ...,\n        [1.0055069e-02],\n        [2.5109870e-03],\n        [1.7549992e-03]],\n\n       ...,\n\n       [[2.3336225e+00],\n        [3.0266130e+00],\n        [6.3277287e+00],\n        ...,\n        [1.0775301e-02],\n        [5.9420434e-03],\n        [1.7646551e-03]],\n\n       [[8.3929882e+00],\n        [8.0689106e+00],\n        [9.0230618e+00],\n        ...,\n        [6.9374866e-03],\n        [8.3456123e-03],\n        [1.4395714e-03]],\n\n       [[1.4282270e+01],\n        [1.2702798e+01],\n        [8.1087742e+00],\n        ...,\n        [2.4540994e-02],\n        [1.3096822e-02],\n        [2.3989677e-03]]], dtype=float32)>"
     },
     "execution_count": 22,
     "metadata": {},
     "output_type": "execute_result"
    }
   ],
   "source": [
    "spectrogram"
   ],
   "metadata": {
    "collapsed": false,
    "ExecuteTime": {
     "start_time": "2023-04-25T10:30:41.832944Z",
     "end_time": "2023-04-25T10:30:41.837947Z"
    }
   }
  },
  {
   "cell_type": "code",
   "execution_count": 23,
   "outputs": [
    {
     "data": {
      "text/plain": "<Figure size 1440x2160 with 1 Axes>",
      "image/png": "[encoded data removed]"
     },
     "metadata": {
      "needs_background": "light"
     },
     "output_type": "display_data"
    }
   ],
   "source": [
    "plt.figure(figsize=(20,30))\n",
    "plt.imshow(tf.transpose(spectrogram)[0])\n",
    "plt.show()"
   ],
   "metadata": {
    "collapsed": false,
    "ExecuteTime": {
     "start_time": "2023-04-25T10:30:43.390139Z",
     "end_time": "2023-04-25T10:30:43.508620Z"
    }
   }
  },
  {
   "cell_type": "code",
   "execution_count": 24,
   "outputs": [
    {
     "data": {
      "text/plain": "numpy.int32"
     },
     "execution_count": 24,
     "metadata": {},
     "output_type": "execute_result"
    }
   ],
   "source": [
    "type(label)"
   ],
   "metadata": {
    "collapsed": false,
    "ExecuteTime": {
     "start_time": "2023-04-25T10:30:44.895104Z",
     "end_time": "2023-04-25T10:30:44.919443Z"
    }
   }
  },
  {
   "cell_type": "markdown",
   "source": [
    "Training and Testing Partitions!"
   ],
   "metadata": {
    "collapsed": false
   }
  },
  {
   "cell_type": "code",
   "execution_count": 25,
   "outputs": [],
   "source": [
    "k = 10 # No. of folds for k-fold cross val"
   ],
   "metadata": {
    "collapsed": false,
    "ExecuteTime": {
     "start_time": "2023-04-25T10:30:46.785552Z",
     "end_time": "2023-04-25T10:30:46.795873Z"
    }
   }
  },
  {
   "cell_type": "code",
   "execution_count": 26,
   "outputs": [
    {
     "name": "stdout",
     "output_type": "stream",
     "text": [
      "WARNING:tensorflow:From C:\\Users\\jasmi\\anaconda3\\lib\\site-packages\\tensorflow\\python\\autograph\\pyct\\static_analysis\\liveness.py:83: Analyzer.lamba_check (from tensorflow.python.autograph.pyct.static_analysis.liveness) is deprecated and will be removed after 2023-09-23.\n",
      "Instructions for updating:\n",
      "Lambda fuctions will be no more assumed to be used in the statement where they are used, or at least in the same block. https://github.com/tensorflow/tensorflow/issues/56089\n",
      "WARNING:tensorflow:Using a while_loop for converting IO>AudioResample cause there is no registered converter for this op.\n"
     ]
    }
   ],
   "source": [
    "# Tensorflow Data Pipeline\n",
    "all_data = all_data.map(preprocess)\n",
    "all_data = all_data.cache()\n",
    "all_data = all_data.shuffle(buffer_size=1000)\n",
    "all_data = all_data.batch(16)\n",
    "all_data = all_data.prefetch(8)"
   ],
   "metadata": {
    "collapsed": false,
    "ExecuteTime": {
     "start_time": "2023-04-25T10:30:47.687663Z",
     "end_time": "2023-04-25T10:30:48.034555Z"
    }
   }
  },
  {
   "cell_type": "code",
   "execution_count": 27,
   "outputs": [
    {
     "data": {
      "text/plain": "16"
     },
     "execution_count": 27,
     "metadata": {},
     "output_type": "execute_result"
    }
   ],
   "source": [
    "len(all_data)"
   ],
   "metadata": {
    "collapsed": false,
    "ExecuteTime": {
     "start_time": "2023-04-25T10:30:50.667367Z",
     "end_time": "2023-04-25T10:30:50.703719Z"
    }
   }
  },
  {
   "cell_type": "code",
   "execution_count": 28,
   "outputs": [],
   "source": [
    "kfold = KFold(n_splits=k, shuffle=True)\n",
    "fold_metrics = []"
   ],
   "metadata": {
    "collapsed": false,
    "ExecuteTime": {
     "start_time": "2023-04-25T10:30:53.451777Z",
     "end_time": "2023-04-25T10:30:53.463539Z"
    }
   }
  },
  {
   "cell_type": "code",
   "execution_count": null,
   "outputs": [],
   "source": [
    "def cross_val(model, X, Y, k):\n",
    "    scoring = ['accuracy','precision','recall','f1','g-mean']\n",
    "    results = cross_val(estimator=model, Xval = X)\n"
   ],
   "metadata": {
    "collapsed": false,
    "ExecuteTime": {
     "start_time": "2023-04-24T15:18:03.146446Z",
     "end_time": "2023-04-24T15:18:03.190859Z"
    }
   }
  },
  {
   "cell_type": "code",
   "execution_count": null,
   "outputs": [],
   "source": [
    "samples, labels = train.as_numpy_iterator().next()"
   ],
   "metadata": {
    "collapsed": false,
    "ExecuteTime": {
     "start_time": "2023-04-24T15:18:03.161451Z",
     "end_time": "2023-04-24T15:18:09.312532Z"
    }
   }
  },
  {
   "cell_type": "code",
   "execution_count": null,
   "outputs": [],
   "source": [
    "samples.shape"
   ],
   "metadata": {
    "collapsed": false,
    "ExecuteTime": {
     "start_time": "2023-04-24T15:18:09.314470Z",
     "end_time": "2023-04-24T15:18:09.328845Z"
    }
   }
  },
  {
   "cell_type": "code",
   "execution_count": null,
   "outputs": [],
   "source": [
    "labels"
   ],
   "metadata": {
    "collapsed": false,
    "ExecuteTime": {
     "start_time": "2023-04-24T15:18:09.330845Z",
     "end_time": "2023-04-24T15:18:09.373554Z"
    }
   }
  },
  {
   "cell_type": "markdown",
   "source": [
    "Building the model!!"
   ],
   "metadata": {
    "collapsed": false
   }
  },
  {
   "cell_type": "code",
   "execution_count": null,
   "outputs": [],
   "source": [
    "# Import dependencies\n",
    "from tensorflow.keras.models import Sequential\n",
    "from tensorflow.keras.layers import Conv2D, Dense, Flatten"
   ],
   "metadata": {
    "collapsed": false,
    "ExecuteTime": {
     "start_time": "2023-04-24T15:18:09.345712Z",
     "end_time": "2023-04-24T15:18:09.384558Z"
    }
   }
  },
  {
   "cell_type": "code",
   "execution_count": null,
   "outputs": [],
   "source": [
    "model = Sequential()\n",
    "model.add(Conv2D(16, (3,3), activation='relu', input_shape=(2499, 129,1)))\n",
    "model.add(Conv2D(16, (3,3), activation='relu'))\n",
    "model.add(Flatten())\n",
    "model.add(Dense(128, activation='relu'))\n",
    "model.add(Dense(8, activation='softmax'))"
   ],
   "metadata": {
    "collapsed": false,
    "ExecuteTime": {
     "start_time": "2023-04-24T15:18:09.363553Z",
     "end_time": "2023-04-24T15:18:14.921004Z"
    }
   }
  },
  {
   "cell_type": "code",
   "execution_count": null,
   "outputs": [],
   "source": [
    "model.compile('Adam', loss='categorical_crossentropy', metrics=[tf.keras.metrics.Recall(), tf.keras.metrics.Precision(), tf.keras.metrics.Accuracy()])"
   ],
   "metadata": {
    "collapsed": false
   }
  },
  {
   "cell_type": "code",
   "execution_count": null,
   "outputs": [],
   "source": [
    "model.summary()"
   ],
   "metadata": {
    "collapsed": false,
    "ExecuteTime": {
     "start_time": "2023-04-24T15:18:14.980302Z",
     "end_time": "2023-04-24T15:18:15.053767Z"
    }
   }
  },
  {
   "cell_type": "markdown",
   "source": [
    "Training Time!!!"
   ],
   "metadata": {
    "collapsed": false
   }
  },
  {
   "cell_type": "code",
   "execution_count": null,
   "outputs": [],
   "source": [
    "hist = model.fit(train, epochs=4, validation_data=test)\n",
    "# Wanting loss decrease, recall & precision increase\n",
    "# G-mean, F1"
   ],
   "metadata": {
    "collapsed": false,
    "ExecuteTime": {
     "start_time": "2023-04-20T10:15:29.789722Z",
     "end_time": "2023-04-20T10:22:32.186361Z"
    }
   }
  },
  {
   "cell_type": "code",
   "execution_count": null,
   "outputs": [],
   "source": [
    "hist.history"
   ],
   "metadata": {
    "collapsed": false,
    "ExecuteTime": {
     "start_time": "2023-04-20T10:22:32.227792Z",
     "end_time": "2023-04-20T10:22:32.247797Z"
    }
   }
  },
  {
   "cell_type": "code",
   "execution_count": null,
   "outputs": [],
   "source": [
    "plt.title('Loss')\n",
    "plt.plot(hist.history['loss'], 'tab:purple')\n",
    "plt.plot(hist.history['val_loss'], 'deeppink')"
   ],
   "metadata": {
    "collapsed": false,
    "ExecuteTime": {
     "start_time": "2023-04-20T10:22:32.296808Z",
     "end_time": "2023-04-20T10:22:32.486375Z"
    }
   }
  },
  {
   "cell_type": "code",
   "execution_count": null,
   "outputs": [],
   "source": [
    "plt.title('Precision')\n",
    "plt.plot(hist.history['precision'], 'tab:purple')\n",
    "plt.plot(hist.history['val_precision'], 'deeppink')"
   ],
   "metadata": {
    "collapsed": false,
    "ExecuteTime": {
     "start_time": "2023-04-20T10:22:52.777642Z",
     "end_time": "2023-04-20T10:22:52.867662Z"
    }
   }
  },
  {
   "cell_type": "code",
   "execution_count": null,
   "outputs": [],
   "source": [
    "plt.title('Recall')\n",
    "plt.plot(hist.history['recall'], 'tab:purple')\n",
    "plt.plot(hist.history['val_recall'], 'deeppink')"
   ],
   "metadata": {
    "collapsed": false,
    "ExecuteTime": {
     "start_time": "2023-04-20T10:22:53.614697Z",
     "end_time": "2023-04-20T10:22:53.717726Z"
    }
   }
  },
  {
   "cell_type": "code",
   "execution_count": null,
   "outputs": [],
   "source": [
    "x_test, y_test = test.as_numpy_iterator().next()"
   ],
   "metadata": {
    "collapsed": false,
    "ExecuteTime": {
     "start_time": "2023-04-20T10:22:58.806294Z",
     "end_time": "2023-04-20T10:22:58.896315Z"
    }
   }
  },
  {
   "cell_type": "code",
   "execution_count": null,
   "outputs": [],
   "source": [
    "y_test.shape"
   ],
   "metadata": {
    "collapsed": false,
    "ExecuteTime": {
     "start_time": "2023-04-20T10:22:59.380376Z",
     "end_time": "2023-04-20T10:22:59.393380Z"
    }
   }
  },
  {
   "cell_type": "code",
   "execution_count": null,
   "outputs": [],
   "source": [
    "yhat = model.predict(x_test)"
   ],
   "metadata": {
    "collapsed": false,
    "ExecuteTime": {
     "start_time": "2023-04-20T10:23:00.105707Z",
     "end_time": "2023-04-20T10:23:00.869409Z"
    }
   }
  },
  {
   "cell_type": "code",
   "execution_count": null,
   "outputs": [],
   "source": [
    "yhat"
   ],
   "metadata": {
    "collapsed": false,
    "ExecuteTime": {
     "start_time": "2023-04-20T10:23:03.143654Z",
     "end_time": "2023-04-20T10:23:03.147655Z"
    }
   }
  },
  {
   "cell_type": "code",
   "execution_count": null,
   "outputs": [],
   "source": [
    "def get_disease(label_classification):\n",
    "    if label_classification == 0:\n",
    "        return \"Asthma\"\n",
    "    elif label_classification == 1:\n",
    "        return \"Bronchiectasis\"\n",
    "    elif label_classification == 2:\n",
    "        return \"Bronchiolitis\"\n",
    "    elif label_classification == 3:\n",
    "        return \"COPD\"\n",
    "    elif label_classification == 4:\n",
    "        return \"Healthy\"\n",
    "    elif label_classification == 5:\n",
    "        return \"LRTI\"\n",
    "    elif label_classification == 6:\n",
    "        return \"Pneumonia\"\n",
    "    elif label_classification == 7:\n",
    "        return \"URTI\"\n",
    "    else:\n",
    "        return \"Unknown\""
   ],
   "metadata": {
    "collapsed": false,
    "ExecuteTime": {
     "start_time": "2023-04-20T10:23:32.292056Z",
     "end_time": "2023-04-20T10:23:32.307059Z"
    }
   }
  },
  {
   "cell_type": "code",
   "execution_count": null,
   "outputs": [],
   "source": [
    "max_indices = np.argmax(yhat[:, 1:], axis=1)\n",
    "\n",
    "group_label = max_indices + 1\n",
    "\n",
    "for i, label in enumerate(group_label):\n",
    "    print(f\"Clip {i} is predicted as being {get_disease(label)}\")"
   ],
   "metadata": {
    "collapsed": false,
    "ExecuteTime": {
     "start_time": "2023-04-20T10:23:34.677553Z",
     "end_time": "2023-04-20T10:23:34.687554Z"
    }
   }
  },
  {
   "cell_type": "code",
   "execution_count": null,
   "outputs": [],
   "source": [
    "max_indices_control = np.argmax(y_test[:, 1:], axis=1)\n",
    "\n",
    "group_label_control = max_indices_control + 1\n",
    "\n",
    "for i, label in enumerate(group_label_control):\n",
    "    print(f\"Clip {i} is {get_disease(label)}\")"
   ],
   "metadata": {
    "collapsed": false,
    "ExecuteTime": {
     "start_time": "2023-04-20T10:57:57.733860Z",
     "end_time": "2023-04-20T10:57:57.761114Z"
    }
   }
  },
  {
   "cell_type": "code",
   "execution_count": null,
   "outputs": [],
   "source": [
    "# cross validation - statistical significance\n",
    "# Ensure eroneous samples are represented, or small groups"
   ],
   "metadata": {
    "collapsed": false
   }
  },
  {
   "cell_type": "code",
   "execution_count": null,
   "outputs": [],
   "source": [
    "# Save machine learning file\n",
    "# Read me file\n",
    "# Images - appendix\n",
    "# Screen capture - Talk through code"
   ],
   "metadata": {
    "collapsed": false
   }
  },
  {
   "cell_type": "code",
   "execution_count": null,
   "outputs": [],
   "source": [
    "# Randomly select audio from COPD, that used instead of mass amount of COPD"
   ],
   "metadata": {
    "collapsed": false
   }
  }
 ],
 "metadata": {
  "kernelspec": {
   "display_name": "Python 3 (ipykernel)",
   "language": "python",
   "name": "python3"
  },
  "language_info": {
   "codemirror_mode": {
    "name": "ipython",
    "version": 3
   },
   "file_extension": ".py",
   "mimetype": "text/x-python",
   "name": "python",
   "nbconvert_exporter": "python",
   "pygments_lexer": "ipython3",
   "version": "3.9.7"
  }
 },
 "nbformat": 4,
 "nbformat_minor": 1
}
