{
 "cells": [
  {
   "cell_type": "code",
   "execution_count": 1,
   "id": "e7995191",
   "metadata": {},
   "outputs": [],
   "source": [
    "import os\n",
    "import pathlib\n",
    "import soundfile as sf\n",
    "\n",
    "import matplotlib.pyplot as plt\n",
    "import numpy as np\n",
    "import seaborn as sns\n",
    "import tensorflow as tf\n",
    "\n",
    "from tensorflow.keras import layers\n",
    "from tensorflow.keras import models\n",
    "from IPython import display\n",
    "\n",
    "# Set the seed value for experiment reproducibility.\n",
    "seed = 42\n",
    "tf.random.set_seed(seed)\n",
    "np.random.seed(seed)"
   ]
  },
  {
   "cell_type": "code",
   "execution_count": null,
   "id": "90da650e",
   "metadata": {},
   "outputs": [],
   "source": [
    "import os\n",
    "import numpy as np\n",
    "from scipy.io import wavfile\n",
    "\n",
    "# Set the path of the directory containing the 24-bit WAV files\n",
    "input_dir = 'C://Users//jasmi//Dissertation Project//Data//Archive//Pneumonia'\n",
    "\n",
    "# Set the path of the directory to save the converted 16-bit WAV files\n",
    "output_dir = 'C://Users//jasmi//Dissertation Project//New Data//Pneumonia'\n",
    "\n",
    "# Iterate over all the WAV files in the input directory\n",
    "for file_name in os.listdir(input_dir):\n",
    "    if file_name.endswith('.wav'):\n",
    "        # Construct the input file path\n",
    "        input_file_path = os.path.join(input_dir, file_name)\n",
    "\n",
    "        # Load the 24-bit WAV file\n",
    "        sample_rate, audio_data = wavfile.read(input_file_path)\n",
    "\n",
    "        # Convert the audio data to a float array and normalize it to the range [-1, 1]\n",
    "        audio_float = audio_data.astype('float32') / 2**(8*3-1)\n",
    "\n",
    "        # Convert the audio data to a 16-bit integer array by scaling it to the range [-32768, 32767]\n",
    "        audio_int16 = (audio_float * 32767).astype('int16')\n",
    "\n",
    "        # Construct the output file path\n",
    "        output_file_path = os.path.join(output_dir, file_name)\n",
    "\n",
    "        # Save the 16-bit WAV file\n",
    "        wavfile.write(output_file_path, sample_rate, audio_int16)"
   ]
  },
  {
   "cell_type": "code",
   "execution_count": 2,
   "id": "d2770006",
   "metadata": {},
   "outputs": [],
   "source": [
    "DATASET_PATH = 'data/Archive_2'\n",
    "\n",
    "data_dir = pathlib.Path(DATASET_PATH)\n",
    "if not data_dir.exists():\n",
    "    tf.keras.utils.get_file(\n",
    "        'archive.zip',\n",
    "        origin=\"https://www.kaggle.com/datasets/vbookshelf/respiratory-sound-database/download?datasetVersionNumber=2\",\n",
    "        extract=True,\n",
    "        cache_dir='.', cache_subdir='data3')"
   ]
  },
  {
   "cell_type": "code",
   "execution_count": 3,
   "id": "e501f1ce",
   "metadata": {},
   "outputs": [
    {
     "name": "stdout",
     "output_type": "stream",
     "text": [
      "Commands: ['Asthma' 'Bronchiectasis' 'Bronchiolitis' 'COPD' 'Healthy' 'LRTI'\n",
      " 'Pneumonia' 'URTI']\n"
     ]
    }
   ],
   "source": [
    "commands = np.array(tf.io.gfile.listdir(str(data_dir)))\n",
    "commands = commands[(commands != 'README.md') & (commands != '.DS_Store')]\n",
    "print('Commands:', commands)"
   ]
  },
  {
   "cell_type": "code",
   "execution_count": 5,
   "id": "ddc24b2d",
   "metadata": {},
   "outputs": [
    {
     "name": "stdout",
     "output_type": "stream",
     "text": [
      "Found 1840 files belonging to 8 classes.\n",
      "Using 1472 files for training.\n",
      "Using 368 files for validation.\n",
      "\n",
      "label names: ['Asthma' 'Bronchiectasis' 'Bronchiolitis' 'COPD' 'Healthy' 'LRTI'\n",
      " 'Pneumonia' 'URTI']\n"
     ]
    }
   ],
   "source": [
    "train_ds, val_ds = tf.keras.utils.audio_dataset_from_directory(\n",
    "    directory=data_dir,\n",
    "    batch_size=32,\n",
    "    # Used for validation, between 0 and 1. In this case, 20%\n",
    "    validation_split=0.2,\n",
    "    seed=0,\n",
    "    subset='both')\n",
    "\n",
    "label_names = np.array(train_ds.class_names)\n",
    "print()\n",
    "print(\"label names:\", label_names)"
   ]
  },
  {
   "cell_type": "code",
   "execution_count": 6,
   "id": "c515d7f9",
   "metadata": {},
   "outputs": [
    {
     "data": {
      "text/plain": [
       "(TensorSpec(shape=(None, None, None), dtype=tf.float32, name=None),\n",
       " TensorSpec(shape=(None,), dtype=tf.int32, name=None))"
      ]
     },
     "execution_count": 6,
     "metadata": {},
     "output_type": "execute_result"
    }
   ],
   "source": [
    "train_ds.element_spec"
   ]
  },
  {
   "cell_type": "code",
   "execution_count": 7,
   "id": "4d3fb553",
   "metadata": {},
   "outputs": [],
   "source": [
    "def squeeze(audio, labels):\n",
    "    audio = tf.squeeze(audio, axis=-1)\n",
    "    return audio, labels\n",
    "\n",
    "train_ds = train_ds.map(squeeze, tf.data.AUTOTUNE)\n",
    "val_ds = val_ds.map(squeeze, tf.data.AUTOTUNE)"
   ]
  },
  {
   "cell_type": "code",
   "execution_count": 8,
   "id": "f40770b7",
   "metadata": {},
   "outputs": [],
   "source": [
    "test_ds = val_ds.shard(num_shards=2, index=0)\n",
    "val_ds = val_ds.shard(num_shards=2, index=1)"
   ]
  },
  {
   "cell_type": "code",
   "execution_count": 9,
   "id": "ef85552a",
   "metadata": {},
   "outputs": [
    {
     "name": "stdout",
     "output_type": "stream",
     "text": [
      "(32, 882001)\n",
      "(32,)\n"
     ]
    }
   ],
   "source": [
    "for example_audio, example_labels in train_ds.take(1):  \n",
    "    print(example_audio.shape)\n",
    "    print(example_labels.shape)"
   ]
  },
  {
   "cell_type": "code",
   "execution_count": 10,
   "id": "dc368415",
   "metadata": {},
   "outputs": [
    {
     "data": {
      "text/plain": [
       "array(['Bronchiectasis', 'Bronchiectasis', 'COPD', 'Asthma'], dtype='<U14')"
      ]
     },
     "execution_count": 10,
     "metadata": {},
     "output_type": "execute_result"
    }
   ],
   "source": [
    "label_names[[1,1,3,0]]"
   ]
  },
  {
   "cell_type": "code",
   "execution_count": 17,
   "id": "0529e8bb",
   "metadata": {},
   "outputs": [
    {
     "data": {
      "image/png": "[encoded data removed]",
      "text/plain": [
       "<Figure size 360x144 with 9 Axes>"
      ]
     },
     "metadata": {
      "needs_background": "light"
     },
     "output_type": "display_data"
    }
   ],
   "source": [
    "rows = 3\n",
    "cols = 3\n",
    "n = rows * cols\n",
    "fig, axes = plt.subplots(rows, cols, figsize=(5, 2))\n",
    "\n",
    "for i in range(n):\n",
    "    if i>=n:\n",
    "        break\n",
    "    r = i // cols\n",
    "    c = i % cols\n",
    "    ax = axes[r][c]\n",
    "    ax.plot(example_audio[i].numpy())\n",
    "    ax.set_xlim([0, example_audio[i].shape[0]])\n",
    "    ax.set_yticks(np.arange(-1.2, 1.2, 0.2))\n",
    "    label = label_names[example_labels[i]]\n",
    "    ax.set_title(label)\n",
    "    ax.set_ylim([-0.2, 0.2])\n",
    "\n",
    "plt.show()"
   ]
  },
  {
   "cell_type": "code",
   "execution_count": 14,
   "id": "be2657eb",
   "metadata": {},
   "outputs": [
    {
     "data": {
      "image/png": "[encoded data removed]",
      "text/plain": [
       "<Figure size 1152x648 with 9 Axes>"
      ]
     },
     "metadata": {
      "needs_background": "light"
     },
     "output_type": "display_data"
    }
   ],
   "source": [
    "rows = 3\n",
    "cols = 3\n",
    "n = rows * cols\n",
    "fig, axes = plt.subplots(rows, cols, figsize=(16, 9))\n",
    "\n",
    "for i in range(n):\n",
    "    if i >= len(example_audio):\n",
    "        break\n",
    "    r = i // cols\n",
    "    c = i % cols\n",
    "    ax = axes[r][c]\n",
    "    ax.plot(example_audio[i].numpy())\n",
    "    ax.set_xlim([0, example_audio[i].shape[0]])\n",
    "    ax.set_yticks(np.arange(-1.2, 1.2, 0.2))\n",
    "    label = label_names[example_labels[i]]\n",
    "    ax.set_title(label)\n",
    "    ax.set_ylim([-5, 5])\n",
    "\n",
    "plt.show()"
   ]
  },
  {
   "cell_type": "code",
   "execution_count": null,
   "id": "1ccf28f8",
   "metadata": {},
   "outputs": [],
   "source": []
  }
 ],
 "metadata": {
  "kernelspec": {
   "display_name": "Python 3 (ipykernel)",
   "language": "python",
   "name": "python3"
  },
  "language_info": {
   "codemirror_mode": {
    "name": "ipython",
    "version": 3
   },
   "file_extension": ".py",
   "mimetype": "text/x-python",
   "name": "python",
   "nbconvert_exporter": "python",
   "pygments_lexer": "ipython3",
   "version": "3.9.7"
  }
 },
 "nbformat": 4,
 "nbformat_minor": 5
}
