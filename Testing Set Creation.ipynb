{
 "cells": [
  {
   "cell_type": "code",
   "execution_count": 1,
   "id": "16145c99",
   "metadata": {},
   "outputs": [],
   "source": [
    "import os\n",
    "import random\n",
    "import shutil\n",
    "\n",
    "# Set the paths of the source and destination directories\n",
    "src_dir = 'C://Users//jasmi//Dissertation Project//Data//Archive'\n",
    "dst_dir = 'C://Users//jasmi//Dissertation Project//Data//Testing Data'\n",
    "\n",
    "# Create the destination directory if it doesn't exist\n",
    "if not os.path.exists(dst_dir):\n",
    "    os.makedirs(dst_dir)\n",
    "\n",
    "# Loop through all the subdirectories in the source directory\n",
    "for root, dirs, files in os.walk(src_dir):\n",
    "    # Loop through all the files in the subdirectory\n",
    "    for file in files:\n",
    "        # Check if the file is a WAV file\n",
    "        if file.endswith('.wav'):\n",
    "            # Generate a random number between 0 and 1\n",
    "            rand_num = random.random()\n",
    "            # If the random number is less than 0.2 (20%)\n",
    "            if rand_num < 0.2:\n",
    "                # Set the source and destination paths\n",
    "                src_path = os.path.join(root, file)\n",
    "                dst_path = os.path.join(dst_dir, file)\n",
    "                # Move the file to the destination directory\n",
    "                shutil.move(src_path, dst_path)"
   ]
  },
  {
   "cell_type": "code",
   "execution_count": null,
   "id": "c1902f92",
   "metadata": {},
   "outputs": [],
   "source": []
  }
 ],
 "metadata": {
  "kernelspec": {
   "display_name": "Python 3 (ipykernel)",
   "language": "python",
   "name": "python3"
  },
  "language_info": {
   "codemirror_mode": {
    "name": "ipython",
    "version": 3
   },
   "file_extension": ".py",
   "mimetype": "text/x-python",
   "name": "python",
   "nbconvert_exporter": "python",
   "pygments_lexer": "ipython3",
   "version": "3.9.7"
  }
 },
 "nbformat": 4,
 "nbformat_minor": 5
}
